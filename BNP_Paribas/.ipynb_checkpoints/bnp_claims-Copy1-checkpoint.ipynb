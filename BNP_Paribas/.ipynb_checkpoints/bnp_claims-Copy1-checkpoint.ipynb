{
 "cells": [
  {
   "cell_type": "code",
   "execution_count": 91,
   "metadata": {
    "collapsed": false
   },
   "outputs": [
    {
     "name": "stdout",
     "output_type": "stream",
     "text": [
      "The watermark extension is already loaded. To reload it, use:\n",
      "  %reload_ext watermark\n",
      "Thomas Balestri \n",
      "last updated: 2016-03-29 \n",
      "\n",
      "CPython 2.7.6\n",
      "IPython 4.0.1\n",
      "\n",
      "numpy 1.10.4\n",
      "pandas 0.17.1\n",
      "matplotlib 1.3.1\n",
      "scikit-learn 0.17\n"
     ]
    }
   ],
   "source": [
    "%load_ext watermark\n",
    "%watermark -a 'Thomas Balestri' -u -d -v -p numpy,pandas,matplotlib,scikit-learn"
   ]
  },
  {
   "cell_type": "code",
   "execution_count": 92,
   "metadata": {
    "collapsed": true
   },
   "outputs": [],
   "source": [
    "import pandas as pd\n",
    "import numpy as np"
   ]
  },
  {
   "cell_type": "code",
   "execution_count": 93,
   "metadata": {
    "collapsed": false
   },
   "outputs": [],
   "source": [
    "df_train = pd.read_csv('train.csv')"
   ]
  },
  {
   "cell_type": "code",
   "execution_count": 94,
   "metadata": {
    "collapsed": false
   },
   "outputs": [
    {
     "data": {
      "text/html": [
       "<div>\n",
       "<table border=\"1\" class=\"dataframe\">\n",
       "  <thead>\n",
       "    <tr style=\"text-align: right;\">\n",
       "      <th></th>\n",
       "      <th>ID</th>\n",
       "      <th>target</th>\n",
       "      <th>v1</th>\n",
       "      <th>v2</th>\n",
       "      <th>v3</th>\n",
       "      <th>v4</th>\n",
       "      <th>v5</th>\n",
       "      <th>v6</th>\n",
       "      <th>v7</th>\n",
       "      <th>v8</th>\n",
       "      <th>v9</th>\n",
       "      <th>v10</th>\n",
       "      <th>v11</th>\n",
       "      <th>v12</th>\n",
       "      <th>v13</th>\n",
       "      <th>v14</th>\n",
       "      <th>v15</th>\n",
       "      <th>v16</th>\n",
       "      <th>v17</th>\n",
       "      <th>v18</th>\n",
       "      <th>v19</th>\n",
       "      <th>v20</th>\n",
       "      <th>v21</th>\n",
       "      <th>v22</th>\n",
       "      <th>v23</th>\n",
       "      <th>v24</th>\n",
       "      <th>v25</th>\n",
       "      <th>v26</th>\n",
       "      <th>v27</th>\n",
       "      <th>v28</th>\n",
       "      <th>v29</th>\n",
       "      <th>v30</th>\n",
       "      <th>v31</th>\n",
       "      <th>v32</th>\n",
       "      <th>v33</th>\n",
       "      <th>v34</th>\n",
       "      <th>v35</th>\n",
       "      <th>v36</th>\n",
       "      <th>v37</th>\n",
       "      <th>v38</th>\n",
       "      <th>v39</th>\n",
       "      <th>v40</th>\n",
       "      <th>v41</th>\n",
       "      <th>v42</th>\n",
       "      <th>v43</th>\n",
       "      <th>v44</th>\n",
       "      <th>v45</th>\n",
       "      <th>v46</th>\n",
       "      <th>v47</th>\n",
       "      <th>v48</th>\n",
       "      <th>v49</th>\n",
       "      <th>v50</th>\n",
       "      <th>v51</th>\n",
       "      <th>v52</th>\n",
       "      <th>v53</th>\n",
       "      <th>v54</th>\n",
       "      <th>v55</th>\n",
       "      <th>v56</th>\n",
       "      <th>v57</th>\n",
       "      <th>v58</th>\n",
       "      <th>v59</th>\n",
       "      <th>v60</th>\n",
       "      <th>v61</th>\n",
       "      <th>v62</th>\n",
       "      <th>v63</th>\n",
       "      <th>v64</th>\n",
       "      <th>v65</th>\n",
       "      <th>v66</th>\n",
       "      <th>v67</th>\n",
       "      <th>v68</th>\n",
       "      <th>v69</th>\n",
       "      <th>v70</th>\n",
       "      <th>v71</th>\n",
       "      <th>v72</th>\n",
       "      <th>v73</th>\n",
       "      <th>v74</th>\n",
       "      <th>v75</th>\n",
       "      <th>v76</th>\n",
       "      <th>v77</th>\n",
       "      <th>v78</th>\n",
       "      <th>v79</th>\n",
       "      <th>v80</th>\n",
       "      <th>v81</th>\n",
       "      <th>v82</th>\n",
       "      <th>v83</th>\n",
       "      <th>v84</th>\n",
       "      <th>v85</th>\n",
       "      <th>v86</th>\n",
       "      <th>v87</th>\n",
       "      <th>v88</th>\n",
       "      <th>v89</th>\n",
       "      <th>v90</th>\n",
       "      <th>v91</th>\n",
       "      <th>v92</th>\n",
       "      <th>v93</th>\n",
       "      <th>v94</th>\n",
       "      <th>v95</th>\n",
       "      <th>v96</th>\n",
       "      <th>v97</th>\n",
       "      <th>v98</th>\n",
       "      <th>v99</th>\n",
       "      <th>v100</th>\n",
       "      <th>v101</th>\n",
       "      <th>v102</th>\n",
       "      <th>v103</th>\n",
       "      <th>v104</th>\n",
       "      <th>v105</th>\n",
       "      <th>v106</th>\n",
       "      <th>v107</th>\n",
       "      <th>v108</th>\n",
       "      <th>v109</th>\n",
       "      <th>v110</th>\n",
       "      <th>v111</th>\n",
       "      <th>v112</th>\n",
       "      <th>v113</th>\n",
       "      <th>v114</th>\n",
       "      <th>v115</th>\n",
       "      <th>v116</th>\n",
       "      <th>v117</th>\n",
       "      <th>v118</th>\n",
       "      <th>v119</th>\n",
       "      <th>v120</th>\n",
       "      <th>v121</th>\n",
       "      <th>v122</th>\n",
       "      <th>v123</th>\n",
       "      <th>v124</th>\n",
       "      <th>v125</th>\n",
       "      <th>v126</th>\n",
       "      <th>v127</th>\n",
       "      <th>v128</th>\n",
       "      <th>v129</th>\n",
       "      <th>v130</th>\n",
       "      <th>v131</th>\n",
       "    </tr>\n",
       "  </thead>\n",
       "  <tbody>\n",
       "    <tr>\n",
       "      <th>0</th>\n",
       "      <td>3</td>\n",
       "      <td>1</td>\n",
       "      <td>1.335739</td>\n",
       "      <td>8.727474</td>\n",
       "      <td>C</td>\n",
       "      <td>3.921026</td>\n",
       "      <td>7.915266</td>\n",
       "      <td>2.599278</td>\n",
       "      <td>3.176895</td>\n",
       "      <td>0.012941</td>\n",
       "      <td>9.999999</td>\n",
       "      <td>0.503281</td>\n",
       "      <td>16.434108</td>\n",
       "      <td>6.085711</td>\n",
       "      <td>2.866830</td>\n",
       "      <td>11.636387</td>\n",
       "      <td>1.355013</td>\n",
       "      <td>8.571429</td>\n",
       "      <td>3.670350</td>\n",
       "      <td>0.106720</td>\n",
       "      <td>0.148883</td>\n",
       "      <td>18.869283</td>\n",
       "      <td>7.730923</td>\n",
       "      <td>XDX</td>\n",
       "      <td>-1.716131e-08</td>\n",
       "      <td>C</td>\n",
       "      <td>0.139412</td>\n",
       "      <td>1.720818</td>\n",
       "      <td>3.393503</td>\n",
       "      <td>0.590122</td>\n",
       "      <td>8.880867</td>\n",
       "      <td>C</td>\n",
       "      <td>A</td>\n",
       "      <td>1.083033</td>\n",
       "      <td>1.010829</td>\n",
       "      <td>7.270147</td>\n",
       "      <td>8.375452</td>\n",
       "      <td>11.326592</td>\n",
       "      <td>0.454546</td>\n",
       "      <td>0</td>\n",
       "      <td>4.012088</td>\n",
       "      <td>7.711453</td>\n",
       "      <td>7.653429</td>\n",
       "      <td>12.707581</td>\n",
       "      <td>2.015505</td>\n",
       "      <td>10.498338</td>\n",
       "      <td>9.848672</td>\n",
       "      <td>0.113561</td>\n",
       "      <td>C</td>\n",
       "      <td>12.171733</td>\n",
       "      <td>8.086643</td>\n",
       "      <td>0.899420</td>\n",
       "      <td>7.277792</td>\n",
       "      <td>G</td>\n",
       "      <td>16.747968</td>\n",
       "      <td>0.037096</td>\n",
       "      <td>1.299638</td>\n",
       "      <td>DI</td>\n",
       "      <td>3.971118</td>\n",
       "      <td>0.529802</td>\n",
       "      <td>10.890984</td>\n",
       "      <td>1.588448</td>\n",
       "      <td>15.858152</td>\n",
       "      <td>1</td>\n",
       "      <td>0.153461</td>\n",
       "      <td>6.363189</td>\n",
       "      <td>18.303925</td>\n",
       "      <td>C</td>\n",
       "      <td>9.314079</td>\n",
       "      <td>15.231789</td>\n",
       "      <td>17.142857</td>\n",
       "      <td>11.784549</td>\n",
       "      <td>F</td>\n",
       "      <td>1</td>\n",
       "      <td>1.614988</td>\n",
       "      <td>B</td>\n",
       "      <td>D</td>\n",
       "      <td>2.230940</td>\n",
       "      <td>7.292418</td>\n",
       "      <td>8.571429</td>\n",
       "      <td>E</td>\n",
       "      <td>3.000000</td>\n",
       "      <td>7.528326</td>\n",
       "      <td>8.861647</td>\n",
       "      <td>0.649820</td>\n",
       "      <td>1.299638</td>\n",
       "      <td>1.707317</td>\n",
       "      <td>0.866426</td>\n",
       "      <td>9.551836</td>\n",
       "      <td>3.321300</td>\n",
       "      <td>0.095678</td>\n",
       "      <td>0.905342</td>\n",
       "      <td>A</td>\n",
       "      <td>0.442252</td>\n",
       "      <td>5.814018</td>\n",
       "      <td>3.517720</td>\n",
       "      <td>0.462019</td>\n",
       "      <td>7.436824</td>\n",
       "      <td>5.454545</td>\n",
       "      <td>8.877414</td>\n",
       "      <td>1.191337</td>\n",
       "      <td>19.470199</td>\n",
       "      <td>8.389237</td>\n",
       "      <td>2.757375</td>\n",
       "      <td>4.374296</td>\n",
       "      <td>1.574039</td>\n",
       "      <td>0.007294</td>\n",
       "      <td>12.579184</td>\n",
       "      <td>E</td>\n",
       "      <td>2.382692</td>\n",
       "      <td>3.930922</td>\n",
       "      <td>B</td>\n",
       "      <td>0.433213</td>\n",
       "      <td>O</td>\n",
       "      <td>NaN</td>\n",
       "      <td>15.634907</td>\n",
       "      <td>2.857144</td>\n",
       "      <td>1.951220</td>\n",
       "      <td>6.592012</td>\n",
       "      <td>5.909091</td>\n",
       "      <td>-6.297423e-07</td>\n",
       "      <td>1.059603</td>\n",
       "      <td>0.803572</td>\n",
       "      <td>8.000000</td>\n",
       "      <td>1.989780</td>\n",
       "      <td>0.035754</td>\n",
       "      <td>AU</td>\n",
       "      <td>1.804126</td>\n",
       "      <td>3.113719</td>\n",
       "      <td>2.024285</td>\n",
       "      <td>0</td>\n",
       "      <td>0.636365</td>\n",
       "      <td>2.857144</td>\n",
       "    </tr>\n",
       "    <tr>\n",
       "      <th>1</th>\n",
       "      <td>4</td>\n",
       "      <td>1</td>\n",
       "      <td>NaN</td>\n",
       "      <td>NaN</td>\n",
       "      <td>C</td>\n",
       "      <td>NaN</td>\n",
       "      <td>9.191265</td>\n",
       "      <td>NaN</td>\n",
       "      <td>NaN</td>\n",
       "      <td>2.301630</td>\n",
       "      <td>NaN</td>\n",
       "      <td>1.312910</td>\n",
       "      <td>NaN</td>\n",
       "      <td>6.507647</td>\n",
       "      <td>NaN</td>\n",
       "      <td>11.636386</td>\n",
       "      <td>NaN</td>\n",
       "      <td>NaN</td>\n",
       "      <td>NaN</td>\n",
       "      <td>NaN</td>\n",
       "      <td>NaN</td>\n",
       "      <td>NaN</td>\n",
       "      <td>6.763110</td>\n",
       "      <td>GUV</td>\n",
       "      <td>NaN</td>\n",
       "      <td>C</td>\n",
       "      <td>3.056144</td>\n",
       "      <td>NaN</td>\n",
       "      <td>NaN</td>\n",
       "      <td>NaN</td>\n",
       "      <td>NaN</td>\n",
       "      <td>C</td>\n",
       "      <td>A</td>\n",
       "      <td>NaN</td>\n",
       "      <td>NaN</td>\n",
       "      <td>3.615077</td>\n",
       "      <td>NaN</td>\n",
       "      <td>14.579479</td>\n",
       "      <td>NaN</td>\n",
       "      <td>0</td>\n",
       "      <td>NaN</td>\n",
       "      <td>14.305766</td>\n",
       "      <td>NaN</td>\n",
       "      <td>NaN</td>\n",
       "      <td>NaN</td>\n",
       "      <td>NaN</td>\n",
       "      <td>NaN</td>\n",
       "      <td>2.449959</td>\n",
       "      <td>E</td>\n",
       "      <td>NaN</td>\n",
       "      <td>NaN</td>\n",
       "      <td>1.379210</td>\n",
       "      <td>NaN</td>\n",
       "      <td>G</td>\n",
       "      <td>NaN</td>\n",
       "      <td>1.129469</td>\n",
       "      <td>NaN</td>\n",
       "      <td>DY</td>\n",
       "      <td>NaN</td>\n",
       "      <td>NaN</td>\n",
       "      <td>NaN</td>\n",
       "      <td>NaN</td>\n",
       "      <td>NaN</td>\n",
       "      <td>2</td>\n",
       "      <td>2.544736</td>\n",
       "      <td>NaN</td>\n",
       "      <td>NaN</td>\n",
       "      <td>A</td>\n",
       "      <td>NaN</td>\n",
       "      <td>NaN</td>\n",
       "      <td>NaN</td>\n",
       "      <td>12.053353</td>\n",
       "      <td>F</td>\n",
       "      <td>2</td>\n",
       "      <td>NaN</td>\n",
       "      <td>B</td>\n",
       "      <td>D</td>\n",
       "      <td>NaN</td>\n",
       "      <td>NaN</td>\n",
       "      <td>NaN</td>\n",
       "      <td>D</td>\n",
       "      <td>NaN</td>\n",
       "      <td>7.277655</td>\n",
       "      <td>3.430691</td>\n",
       "      <td>NaN</td>\n",
       "      <td>NaN</td>\n",
       "      <td>NaN</td>\n",
       "      <td>NaN</td>\n",
       "      <td>9.848004</td>\n",
       "      <td>NaN</td>\n",
       "      <td>2.678584</td>\n",
       "      <td>NaN</td>\n",
       "      <td>B</td>\n",
       "      <td>NaN</td>\n",
       "      <td>NaN</td>\n",
       "      <td>NaN</td>\n",
       "      <td>NaN</td>\n",
       "      <td>NaN</td>\n",
       "      <td>NaN</td>\n",
       "      <td>8.303967</td>\n",
       "      <td>NaN</td>\n",
       "      <td>NaN</td>\n",
       "      <td>NaN</td>\n",
       "      <td>NaN</td>\n",
       "      <td>NaN</td>\n",
       "      <td>NaN</td>\n",
       "      <td>1.505335</td>\n",
       "      <td>NaN</td>\n",
       "      <td>B</td>\n",
       "      <td>1.825361</td>\n",
       "      <td>4.247858</td>\n",
       "      <td>A</td>\n",
       "      <td>NaN</td>\n",
       "      <td>U</td>\n",
       "      <td>G</td>\n",
       "      <td>10.308044</td>\n",
       "      <td>NaN</td>\n",
       "      <td>NaN</td>\n",
       "      <td>10.595357</td>\n",
       "      <td>NaN</td>\n",
       "      <td>NaN</td>\n",
       "      <td>NaN</td>\n",
       "      <td>NaN</td>\n",
       "      <td>NaN</td>\n",
       "      <td>NaN</td>\n",
       "      <td>0.598896</td>\n",
       "      <td>AF</td>\n",
       "      <td>NaN</td>\n",
       "      <td>NaN</td>\n",
       "      <td>1.957825</td>\n",
       "      <td>0</td>\n",
       "      <td>NaN</td>\n",
       "      <td>NaN</td>\n",
       "    </tr>\n",
       "    <tr>\n",
       "      <th>2</th>\n",
       "      <td>5</td>\n",
       "      <td>1</td>\n",
       "      <td>0.943877</td>\n",
       "      <td>5.310079</td>\n",
       "      <td>C</td>\n",
       "      <td>4.410969</td>\n",
       "      <td>5.326159</td>\n",
       "      <td>3.979592</td>\n",
       "      <td>3.928571</td>\n",
       "      <td>0.019645</td>\n",
       "      <td>12.666667</td>\n",
       "      <td>0.765864</td>\n",
       "      <td>14.756098</td>\n",
       "      <td>6.384670</td>\n",
       "      <td>2.505589</td>\n",
       "      <td>9.603542</td>\n",
       "      <td>1.984127</td>\n",
       "      <td>5.882353</td>\n",
       "      <td>3.170847</td>\n",
       "      <td>0.244541</td>\n",
       "      <td>0.144258</td>\n",
       "      <td>17.952332</td>\n",
       "      <td>5.245035</td>\n",
       "      <td>FQ</td>\n",
       "      <td>-2.785053e-07</td>\n",
       "      <td>E</td>\n",
       "      <td>0.113997</td>\n",
       "      <td>2.244897</td>\n",
       "      <td>5.306122</td>\n",
       "      <td>0.836005</td>\n",
       "      <td>7.499999</td>\n",
       "      <td>NaN</td>\n",
       "      <td>A</td>\n",
       "      <td>1.454082</td>\n",
       "      <td>1.734693</td>\n",
       "      <td>4.043864</td>\n",
       "      <td>7.959184</td>\n",
       "      <td>12.730517</td>\n",
       "      <td>0.259740</td>\n",
       "      <td>0</td>\n",
       "      <td>7.378964</td>\n",
       "      <td>13.077201</td>\n",
       "      <td>6.173469</td>\n",
       "      <td>12.346939</td>\n",
       "      <td>2.926830</td>\n",
       "      <td>8.897561</td>\n",
       "      <td>5.343819</td>\n",
       "      <td>0.126035</td>\n",
       "      <td>C</td>\n",
       "      <td>12.711328</td>\n",
       "      <td>6.836734</td>\n",
       "      <td>0.604504</td>\n",
       "      <td>9.637627</td>\n",
       "      <td>F</td>\n",
       "      <td>15.102041</td>\n",
       "      <td>0.085573</td>\n",
       "      <td>0.765305</td>\n",
       "      <td>AS</td>\n",
       "      <td>4.030613</td>\n",
       "      <td>4.277456</td>\n",
       "      <td>9.105481</td>\n",
       "      <td>2.151361</td>\n",
       "      <td>16.075602</td>\n",
       "      <td>1</td>\n",
       "      <td>0.123643</td>\n",
       "      <td>5.517949</td>\n",
       "      <td>16.377205</td>\n",
       "      <td>A</td>\n",
       "      <td>8.367347</td>\n",
       "      <td>11.040463</td>\n",
       "      <td>5.882353</td>\n",
       "      <td>8.460654</td>\n",
       "      <td>B</td>\n",
       "      <td>3</td>\n",
       "      <td>2.413618</td>\n",
       "      <td>B</td>\n",
       "      <td>B</td>\n",
       "      <td>1.963971</td>\n",
       "      <td>5.918368</td>\n",
       "      <td>11.764705</td>\n",
       "      <td>E</td>\n",
       "      <td>3.333334</td>\n",
       "      <td>10.194433</td>\n",
       "      <td>8.266200</td>\n",
       "      <td>1.530611</td>\n",
       "      <td>1.530613</td>\n",
       "      <td>2.429906</td>\n",
       "      <td>1.071429</td>\n",
       "      <td>8.447465</td>\n",
       "      <td>3.367346</td>\n",
       "      <td>0.111388</td>\n",
       "      <td>0.811447</td>\n",
       "      <td>G</td>\n",
       "      <td>0.271480</td>\n",
       "      <td>5.156559</td>\n",
       "      <td>4.214944</td>\n",
       "      <td>0.309657</td>\n",
       "      <td>5.663265</td>\n",
       "      <td>5.974026</td>\n",
       "      <td>11.588858</td>\n",
       "      <td>0.841837</td>\n",
       "      <td>15.491329</td>\n",
       "      <td>5.879353</td>\n",
       "      <td>3.292788</td>\n",
       "      <td>5.924457</td>\n",
       "      <td>1.668401</td>\n",
       "      <td>0.008275</td>\n",
       "      <td>11.670572</td>\n",
       "      <td>C</td>\n",
       "      <td>1.375753</td>\n",
       "      <td>1.184211</td>\n",
       "      <td>B</td>\n",
       "      <td>3.367348</td>\n",
       "      <td>S</td>\n",
       "      <td>NaN</td>\n",
       "      <td>11.205561</td>\n",
       "      <td>12.941177</td>\n",
       "      <td>3.129253</td>\n",
       "      <td>3.478911</td>\n",
       "      <td>6.233767</td>\n",
       "      <td>-2.792745e-07</td>\n",
       "      <td>2.138728</td>\n",
       "      <td>2.238806</td>\n",
       "      <td>9.333333</td>\n",
       "      <td>2.477596</td>\n",
       "      <td>0.013452</td>\n",
       "      <td>AE</td>\n",
       "      <td>1.773709</td>\n",
       "      <td>3.922193</td>\n",
       "      <td>1.120468</td>\n",
       "      <td>2</td>\n",
       "      <td>0.883118</td>\n",
       "      <td>1.176472</td>\n",
       "    </tr>\n",
       "    <tr>\n",
       "      <th>3</th>\n",
       "      <td>6</td>\n",
       "      <td>1</td>\n",
       "      <td>0.797415</td>\n",
       "      <td>8.304757</td>\n",
       "      <td>C</td>\n",
       "      <td>4.225930</td>\n",
       "      <td>11.627438</td>\n",
       "      <td>2.097700</td>\n",
       "      <td>1.987549</td>\n",
       "      <td>0.171947</td>\n",
       "      <td>8.965516</td>\n",
       "      <td>6.542669</td>\n",
       "      <td>16.347483</td>\n",
       "      <td>9.646653</td>\n",
       "      <td>3.903302</td>\n",
       "      <td>14.094723</td>\n",
       "      <td>1.945044</td>\n",
       "      <td>5.517242</td>\n",
       "      <td>3.610789</td>\n",
       "      <td>1.224114</td>\n",
       "      <td>0.231630</td>\n",
       "      <td>18.376407</td>\n",
       "      <td>7.517125</td>\n",
       "      <td>ACUE</td>\n",
       "      <td>-4.805344e-07</td>\n",
       "      <td>D</td>\n",
       "      <td>0.148843</td>\n",
       "      <td>1.308269</td>\n",
       "      <td>2.303640</td>\n",
       "      <td>8.926662</td>\n",
       "      <td>8.874521</td>\n",
       "      <td>C</td>\n",
       "      <td>B</td>\n",
       "      <td>1.587644</td>\n",
       "      <td>1.666667</td>\n",
       "      <td>8.703550</td>\n",
       "      <td>8.898468</td>\n",
       "      <td>11.302795</td>\n",
       "      <td>0.433735</td>\n",
       "      <td>0</td>\n",
       "      <td>0.287322</td>\n",
       "      <td>11.523045</td>\n",
       "      <td>7.931035</td>\n",
       "      <td>12.935823</td>\n",
       "      <td>1.470878</td>\n",
       "      <td>12.708574</td>\n",
       "      <td>9.670823</td>\n",
       "      <td>0.108387</td>\n",
       "      <td>C</td>\n",
       "      <td>12.194855</td>\n",
       "      <td>8.591954</td>\n",
       "      <td>3.329176</td>\n",
       "      <td>4.780357</td>\n",
       "      <td>H</td>\n",
       "      <td>16.621695</td>\n",
       "      <td>0.139721</td>\n",
       "      <td>1.178161</td>\n",
       "      <td>BW</td>\n",
       "      <td>3.965517</td>\n",
       "      <td>1.732102</td>\n",
       "      <td>11.777912</td>\n",
       "      <td>1.229246</td>\n",
       "      <td>15.927390</td>\n",
       "      <td>1</td>\n",
       "      <td>0.140260</td>\n",
       "      <td>6.292979</td>\n",
       "      <td>17.011645</td>\n",
       "      <td>A</td>\n",
       "      <td>9.703065</td>\n",
       "      <td>18.568129</td>\n",
       "      <td>9.425288</td>\n",
       "      <td>13.594728</td>\n",
       "      <td>F</td>\n",
       "      <td>2</td>\n",
       "      <td>2.272541</td>\n",
       "      <td>B</td>\n",
       "      <td>D</td>\n",
       "      <td>2.188198</td>\n",
       "      <td>8.213602</td>\n",
       "      <td>13.448277</td>\n",
       "      <td>B</td>\n",
       "      <td>1.947261</td>\n",
       "      <td>4.797873</td>\n",
       "      <td>13.315819</td>\n",
       "      <td>1.681034</td>\n",
       "      <td>1.379310</td>\n",
       "      <td>1.587045</td>\n",
       "      <td>1.242817</td>\n",
       "      <td>10.747144</td>\n",
       "      <td>1.408046</td>\n",
       "      <td>0.039051</td>\n",
       "      <td>1.042425</td>\n",
       "      <td>B</td>\n",
       "      <td>0.763925</td>\n",
       "      <td>5.498902</td>\n",
       "      <td>3.423944</td>\n",
       "      <td>0.832518</td>\n",
       "      <td>7.375480</td>\n",
       "      <td>6.746988</td>\n",
       "      <td>6.942002</td>\n",
       "      <td>1.334611</td>\n",
       "      <td>18.256352</td>\n",
       "      <td>8.507281</td>\n",
       "      <td>2.503055</td>\n",
       "      <td>4.872157</td>\n",
       "      <td>2.573664</td>\n",
       "      <td>0.113967</td>\n",
       "      <td>12.554274</td>\n",
       "      <td>B</td>\n",
       "      <td>2.230754</td>\n",
       "      <td>1.990131</td>\n",
       "      <td>B</td>\n",
       "      <td>2.643678</td>\n",
       "      <td>J</td>\n",
       "      <td>NaN</td>\n",
       "      <td>13.777666</td>\n",
       "      <td>10.574713</td>\n",
       "      <td>1.511063</td>\n",
       "      <td>4.949609</td>\n",
       "      <td>7.180722</td>\n",
       "      <td>5.655086e-01</td>\n",
       "      <td>1.166281</td>\n",
       "      <td>1.956521</td>\n",
       "      <td>7.018256</td>\n",
       "      <td>1.812795</td>\n",
       "      <td>0.002267</td>\n",
       "      <td>CJ</td>\n",
       "      <td>1.415230</td>\n",
       "      <td>2.954381</td>\n",
       "      <td>1.990847</td>\n",
       "      <td>1</td>\n",
       "      <td>1.677108</td>\n",
       "      <td>1.034483</td>\n",
       "    </tr>\n",
       "    <tr>\n",
       "      <th>4</th>\n",
       "      <td>8</td>\n",
       "      <td>1</td>\n",
       "      <td>NaN</td>\n",
       "      <td>NaN</td>\n",
       "      <td>C</td>\n",
       "      <td>NaN</td>\n",
       "      <td>NaN</td>\n",
       "      <td>NaN</td>\n",
       "      <td>NaN</td>\n",
       "      <td>NaN</td>\n",
       "      <td>NaN</td>\n",
       "      <td>1.050328</td>\n",
       "      <td>NaN</td>\n",
       "      <td>6.320087</td>\n",
       "      <td>NaN</td>\n",
       "      <td>10.991098</td>\n",
       "      <td>NaN</td>\n",
       "      <td>NaN</td>\n",
       "      <td>NaN</td>\n",
       "      <td>NaN</td>\n",
       "      <td>NaN</td>\n",
       "      <td>NaN</td>\n",
       "      <td>6.414567</td>\n",
       "      <td>HIT</td>\n",
       "      <td>NaN</td>\n",
       "      <td>E</td>\n",
       "      <td>NaN</td>\n",
       "      <td>NaN</td>\n",
       "      <td>NaN</td>\n",
       "      <td>NaN</td>\n",
       "      <td>NaN</td>\n",
       "      <td>NaN</td>\n",
       "      <td>A</td>\n",
       "      <td>NaN</td>\n",
       "      <td>NaN</td>\n",
       "      <td>6.083151</td>\n",
       "      <td>NaN</td>\n",
       "      <td>NaN</td>\n",
       "      <td>NaN</td>\n",
       "      <td>0</td>\n",
       "      <td>NaN</td>\n",
       "      <td>10.138920</td>\n",
       "      <td>NaN</td>\n",
       "      <td>NaN</td>\n",
       "      <td>NaN</td>\n",
       "      <td>NaN</td>\n",
       "      <td>NaN</td>\n",
       "      <td>NaN</td>\n",
       "      <td>I</td>\n",
       "      <td>NaN</td>\n",
       "      <td>NaN</td>\n",
       "      <td>1.364536</td>\n",
       "      <td>NaN</td>\n",
       "      <td>H</td>\n",
       "      <td>NaN</td>\n",
       "      <td>NaN</td>\n",
       "      <td>NaN</td>\n",
       "      <td>NaN</td>\n",
       "      <td>NaN</td>\n",
       "      <td>NaN</td>\n",
       "      <td>NaN</td>\n",
       "      <td>NaN</td>\n",
       "      <td>NaN</td>\n",
       "      <td>1</td>\n",
       "      <td>NaN</td>\n",
       "      <td>NaN</td>\n",
       "      <td>NaN</td>\n",
       "      <td>C</td>\n",
       "      <td>NaN</td>\n",
       "      <td>NaN</td>\n",
       "      <td>NaN</td>\n",
       "      <td>NaN</td>\n",
       "      <td>F</td>\n",
       "      <td>1</td>\n",
       "      <td>NaN</td>\n",
       "      <td>B</td>\n",
       "      <td>D</td>\n",
       "      <td>NaN</td>\n",
       "      <td>NaN</td>\n",
       "      <td>NaN</td>\n",
       "      <td>C</td>\n",
       "      <td>NaN</td>\n",
       "      <td>NaN</td>\n",
       "      <td>NaN</td>\n",
       "      <td>NaN</td>\n",
       "      <td>NaN</td>\n",
       "      <td>NaN</td>\n",
       "      <td>NaN</td>\n",
       "      <td>NaN</td>\n",
       "      <td>NaN</td>\n",
       "      <td>NaN</td>\n",
       "      <td>NaN</td>\n",
       "      <td>G</td>\n",
       "      <td>NaN</td>\n",
       "      <td>NaN</td>\n",
       "      <td>NaN</td>\n",
       "      <td>NaN</td>\n",
       "      <td>NaN</td>\n",
       "      <td>NaN</td>\n",
       "      <td>NaN</td>\n",
       "      <td>NaN</td>\n",
       "      <td>NaN</td>\n",
       "      <td>NaN</td>\n",
       "      <td>NaN</td>\n",
       "      <td>NaN</td>\n",
       "      <td>NaN</td>\n",
       "      <td>NaN</td>\n",
       "      <td>NaN</td>\n",
       "      <td>C</td>\n",
       "      <td>NaN</td>\n",
       "      <td>NaN</td>\n",
       "      <td>A</td>\n",
       "      <td>NaN</td>\n",
       "      <td>T</td>\n",
       "      <td>G</td>\n",
       "      <td>14.097099</td>\n",
       "      <td>NaN</td>\n",
       "      <td>NaN</td>\n",
       "      <td>NaN</td>\n",
       "      <td>NaN</td>\n",
       "      <td>NaN</td>\n",
       "      <td>NaN</td>\n",
       "      <td>NaN</td>\n",
       "      <td>NaN</td>\n",
       "      <td>NaN</td>\n",
       "      <td>NaN</td>\n",
       "      <td>Z</td>\n",
       "      <td>NaN</td>\n",
       "      <td>NaN</td>\n",
       "      <td>NaN</td>\n",
       "      <td>0</td>\n",
       "      <td>NaN</td>\n",
       "      <td>NaN</td>\n",
       "    </tr>\n",
       "    <tr>\n",
       "      <th>5</th>\n",
       "      <td>9</td>\n",
       "      <td>0</td>\n",
       "      <td>NaN</td>\n",
       "      <td>NaN</td>\n",
       "      <td>C</td>\n",
       "      <td>NaN</td>\n",
       "      <td>8.856791</td>\n",
       "      <td>NaN</td>\n",
       "      <td>NaN</td>\n",
       "      <td>0.359993</td>\n",
       "      <td>NaN</td>\n",
       "      <td>1.050328</td>\n",
       "      <td>NaN</td>\n",
       "      <td>6.216077</td>\n",
       "      <td>NaN</td>\n",
       "      <td>11.916255</td>\n",
       "      <td>NaN</td>\n",
       "      <td>NaN</td>\n",
       "      <td>NaN</td>\n",
       "      <td>NaN</td>\n",
       "      <td>NaN</td>\n",
       "      <td>NaN</td>\n",
       "      <td>7.351426</td>\n",
       "      <td>AYX</td>\n",
       "      <td>NaN</td>\n",
       "      <td>A</td>\n",
       "      <td>0.218458</td>\n",
       "      <td>NaN</td>\n",
       "      <td>NaN</td>\n",
       "      <td>NaN</td>\n",
       "      <td>NaN</td>\n",
       "      <td>NaN</td>\n",
       "      <td>A</td>\n",
       "      <td>NaN</td>\n",
       "      <td>NaN</td>\n",
       "      <td>7.496613</td>\n",
       "      <td>NaN</td>\n",
       "      <td>15.497964</td>\n",
       "      <td>NaN</td>\n",
       "      <td>0</td>\n",
       "      <td>NaN</td>\n",
       "      <td>7.903915</td>\n",
       "      <td>NaN</td>\n",
       "      <td>NaN</td>\n",
       "      <td>NaN</td>\n",
       "      <td>NaN</td>\n",
       "      <td>NaN</td>\n",
       "      <td>0.262632</td>\n",
       "      <td>I</td>\n",
       "      <td>NaN</td>\n",
       "      <td>NaN</td>\n",
       "      <td>1.653583</td>\n",
       "      <td>NaN</td>\n",
       "      <td>K</td>\n",
       "      <td>NaN</td>\n",
       "      <td>0.131278</td>\n",
       "      <td>NaN</td>\n",
       "      <td>DX</td>\n",
       "      <td>NaN</td>\n",
       "      <td>NaN</td>\n",
       "      <td>NaN</td>\n",
       "      <td>NaN</td>\n",
       "      <td>NaN</td>\n",
       "      <td>1</td>\n",
       "      <td>0.276524</td>\n",
       "      <td>NaN</td>\n",
       "      <td>NaN</td>\n",
       "      <td>A</td>\n",
       "      <td>NaN</td>\n",
       "      <td>NaN</td>\n",
       "      <td>NaN</td>\n",
       "      <td>11.521160</td>\n",
       "      <td>F</td>\n",
       "      <td>1</td>\n",
       "      <td>NaN</td>\n",
       "      <td>B</td>\n",
       "      <td>D</td>\n",
       "      <td>NaN</td>\n",
       "      <td>NaN</td>\n",
       "      <td>NaN</td>\n",
       "      <td>I</td>\n",
       "      <td>NaN</td>\n",
       "      <td>7.978375</td>\n",
       "      <td>3.811356</td>\n",
       "      <td>NaN</td>\n",
       "      <td>NaN</td>\n",
       "      <td>NaN</td>\n",
       "      <td>NaN</td>\n",
       "      <td>9.618443</td>\n",
       "      <td>NaN</td>\n",
       "      <td>0.116390</td>\n",
       "      <td>NaN</td>\n",
       "      <td>G</td>\n",
       "      <td>NaN</td>\n",
       "      <td>NaN</td>\n",
       "      <td>NaN</td>\n",
       "      <td>NaN</td>\n",
       "      <td>NaN</td>\n",
       "      <td>NaN</td>\n",
       "      <td>8.970103</td>\n",
       "      <td>NaN</td>\n",
       "      <td>NaN</td>\n",
       "      <td>NaN</td>\n",
       "      <td>NaN</td>\n",
       "      <td>NaN</td>\n",
       "      <td>NaN</td>\n",
       "      <td>0.193530</td>\n",
       "      <td>NaN</td>\n",
       "      <td>C</td>\n",
       "      <td>1.763765</td>\n",
       "      <td>2.442616</td>\n",
       "      <td>A</td>\n",
       "      <td>NaN</td>\n",
       "      <td>D</td>\n",
       "      <td>X</td>\n",
       "      <td>15.750502</td>\n",
       "      <td>NaN</td>\n",
       "      <td>NaN</td>\n",
       "      <td>8.851677</td>\n",
       "      <td>NaN</td>\n",
       "      <td>NaN</td>\n",
       "      <td>NaN</td>\n",
       "      <td>NaN</td>\n",
       "      <td>NaN</td>\n",
       "      <td>NaN</td>\n",
       "      <td>0.049861</td>\n",
       "      <td>X</td>\n",
       "      <td>NaN</td>\n",
       "      <td>NaN</td>\n",
       "      <td>1.536222</td>\n",
       "      <td>0</td>\n",
       "      <td>NaN</td>\n",
       "      <td>NaN</td>\n",
       "    </tr>\n",
       "    <tr>\n",
       "      <th>6</th>\n",
       "      <td>12</td>\n",
       "      <td>0</td>\n",
       "      <td>0.899806</td>\n",
       "      <td>7.312995</td>\n",
       "      <td>C</td>\n",
       "      <td>3.494148</td>\n",
       "      <td>9.946200</td>\n",
       "      <td>1.926070</td>\n",
       "      <td>1.770427</td>\n",
       "      <td>0.066251</td>\n",
       "      <td>5.011287</td>\n",
       "      <td>2.341356</td>\n",
       "      <td>16.274510</td>\n",
       "      <td>7.711174</td>\n",
       "      <td>5.915588</td>\n",
       "      <td>12.148604</td>\n",
       "      <td>1.968303</td>\n",
       "      <td>6.601941</td>\n",
       "      <td>2.873974</td>\n",
       "      <td>0.484133</td>\n",
       "      <td>0.443661</td>\n",
       "      <td>17.226675</td>\n",
       "      <td>6.661479</td>\n",
       "      <td>NFD</td>\n",
       "      <td>7.813019e-07</td>\n",
       "      <td>E</td>\n",
       "      <td>0.180765</td>\n",
       "      <td>1.070040</td>\n",
       "      <td>1.566147</td>\n",
       "      <td>4.393842</td>\n",
       "      <td>7.928015</td>\n",
       "      <td>G</td>\n",
       "      <td>A</td>\n",
       "      <td>1.619651</td>\n",
       "      <td>2.003892</td>\n",
       "      <td>3.964911</td>\n",
       "      <td>8.735408</td>\n",
       "      <td>13.967877</td>\n",
       "      <td>0.549451</td>\n",
       "      <td>0</td>\n",
       "      <td>0.031587</td>\n",
       "      <td>14.787641</td>\n",
       "      <td>7.266536</td>\n",
       "      <td>14.445526</td>\n",
       "      <td>1.307190</td>\n",
       "      <td>11.765638</td>\n",
       "      <td>9.406689</td>\n",
       "      <td>0.110774</td>\n",
       "      <td>C</td>\n",
       "      <td>13.256878</td>\n",
       "      <td>8.365759</td>\n",
       "      <td>0.133520</td>\n",
       "      <td>6.368555</td>\n",
       "      <td>A</td>\n",
       "      <td>16.760736</td>\n",
       "      <td>0.097693</td>\n",
       "      <td>1.721789</td>\n",
       "      <td>AS</td>\n",
       "      <td>3.677042</td>\n",
       "      <td>0.729927</td>\n",
       "      <td>12.858752</td>\n",
       "      <td>0.980870</td>\n",
       "      <td>15.067893</td>\n",
       "      <td>2</td>\n",
       "      <td>0.164415</td>\n",
       "      <td>5.175563</td>\n",
       "      <td>15.655942</td>\n",
       "      <td>A</td>\n",
       "      <td>8.929960</td>\n",
       "      <td>19.124088</td>\n",
       "      <td>11.456310</td>\n",
       "      <td>14.152569</td>\n",
       "      <td>F</td>\n",
       "      <td>2</td>\n",
       "      <td>2.519063</td>\n",
       "      <td>B</td>\n",
       "      <td>D</td>\n",
       "      <td>1.709188</td>\n",
       "      <td>7.354085</td>\n",
       "      <td>12.427184</td>\n",
       "      <td>E</td>\n",
       "      <td>1.534989</td>\n",
       "      <td>6.328159</td>\n",
       "      <td>3.490951</td>\n",
       "      <td>1.867705</td>\n",
       "      <td>1.984436</td>\n",
       "      <td>2.591876</td>\n",
       "      <td>1.123541</td>\n",
       "      <td>10.999548</td>\n",
       "      <td>1.147860</td>\n",
       "      <td>0.075958</td>\n",
       "      <td>1.343752</td>\n",
       "      <td>B</td>\n",
       "      <td>0.766422</td>\n",
       "      <td>5.875069</td>\n",
       "      <td>5.841754</td>\n",
       "      <td>0.863301</td>\n",
       "      <td>6.643969</td>\n",
       "      <td>6.043957</td>\n",
       "      <td>6.079678</td>\n",
       "      <td>1.301881</td>\n",
       "      <td>19.036496</td>\n",
       "      <td>7.492828</td>\n",
       "      <td>2.511898</td>\n",
       "      <td>6.310835</td>\n",
       "      <td>4.697276</td>\n",
       "      <td>0.047703</td>\n",
       "      <td>11.075756</td>\n",
       "      <td>B</td>\n",
       "      <td>2.254819</td>\n",
       "      <td>5.180922</td>\n",
       "      <td>B</td>\n",
       "      <td>2.568094</td>\n",
       "      <td>I</td>\n",
       "      <td>NaN</td>\n",
       "      <td>9.010082</td>\n",
       "      <td>8.543690</td>\n",
       "      <td>1.349693</td>\n",
       "      <td>12.168719</td>\n",
       "      <td>6.593406</td>\n",
       "      <td>1.532727e+00</td>\n",
       "      <td>0.846716</td>\n",
       "      <td>2.232558</td>\n",
       "      <td>3.476299</td>\n",
       "      <td>1.992594</td>\n",
       "      <td>0.083758</td>\n",
       "      <td>BJ</td>\n",
       "      <td>3.276100</td>\n",
       "      <td>1.623298</td>\n",
       "      <td>2.266575</td>\n",
       "      <td>0</td>\n",
       "      <td>2.263736</td>\n",
       "      <td>0.970873</td>\n",
       "    </tr>\n",
       "    <tr>\n",
       "      <th>7</th>\n",
       "      <td>21</td>\n",
       "      <td>1</td>\n",
       "      <td>NaN</td>\n",
       "      <td>NaN</td>\n",
       "      <td>C</td>\n",
       "      <td>NaN</td>\n",
       "      <td>NaN</td>\n",
       "      <td>NaN</td>\n",
       "      <td>NaN</td>\n",
       "      <td>NaN</td>\n",
       "      <td>NaN</td>\n",
       "      <td>1.838074</td>\n",
       "      <td>NaN</td>\n",
       "      <td>6.424482</td>\n",
       "      <td>NaN</td>\n",
       "      <td>12.793945</td>\n",
       "      <td>NaN</td>\n",
       "      <td>NaN</td>\n",
       "      <td>NaN</td>\n",
       "      <td>NaN</td>\n",
       "      <td>NaN</td>\n",
       "      <td>NaN</td>\n",
       "      <td>7.806704</td>\n",
       "      <td>AHBW</td>\n",
       "      <td>NaN</td>\n",
       "      <td>D</td>\n",
       "      <td>NaN</td>\n",
       "      <td>NaN</td>\n",
       "      <td>NaN</td>\n",
       "      <td>NaN</td>\n",
       "      <td>NaN</td>\n",
       "      <td>C</td>\n",
       "      <td>A</td>\n",
       "      <td>NaN</td>\n",
       "      <td>NaN</td>\n",
       "      <td>11.077506</td>\n",
       "      <td>NaN</td>\n",
       "      <td>NaN</td>\n",
       "      <td>NaN</td>\n",
       "      <td>0</td>\n",
       "      <td>NaN</td>\n",
       "      <td>3.034513</td>\n",
       "      <td>NaN</td>\n",
       "      <td>NaN</td>\n",
       "      <td>NaN</td>\n",
       "      <td>NaN</td>\n",
       "      <td>NaN</td>\n",
       "      <td>NaN</td>\n",
       "      <td>I</td>\n",
       "      <td>NaN</td>\n",
       "      <td>NaN</td>\n",
       "      <td>2.682121</td>\n",
       "      <td>NaN</td>\n",
       "      <td>C</td>\n",
       "      <td>NaN</td>\n",
       "      <td>NaN</td>\n",
       "      <td>NaN</td>\n",
       "      <td>DP</td>\n",
       "      <td>NaN</td>\n",
       "      <td>NaN</td>\n",
       "      <td>NaN</td>\n",
       "      <td>NaN</td>\n",
       "      <td>NaN</td>\n",
       "      <td>2</td>\n",
       "      <td>NaN</td>\n",
       "      <td>NaN</td>\n",
       "      <td>NaN</td>\n",
       "      <td>C</td>\n",
       "      <td>NaN</td>\n",
       "      <td>NaN</td>\n",
       "      <td>NaN</td>\n",
       "      <td>NaN</td>\n",
       "      <td>F</td>\n",
       "      <td>2</td>\n",
       "      <td>NaN</td>\n",
       "      <td>B</td>\n",
       "      <td>D</td>\n",
       "      <td>NaN</td>\n",
       "      <td>NaN</td>\n",
       "      <td>NaN</td>\n",
       "      <td>C</td>\n",
       "      <td>NaN</td>\n",
       "      <td>NaN</td>\n",
       "      <td>NaN</td>\n",
       "      <td>NaN</td>\n",
       "      <td>NaN</td>\n",
       "      <td>NaN</td>\n",
       "      <td>NaN</td>\n",
       "      <td>NaN</td>\n",
       "      <td>NaN</td>\n",
       "      <td>NaN</td>\n",
       "      <td>NaN</td>\n",
       "      <td>A</td>\n",
       "      <td>NaN</td>\n",
       "      <td>NaN</td>\n",
       "      <td>NaN</td>\n",
       "      <td>NaN</td>\n",
       "      <td>NaN</td>\n",
       "      <td>NaN</td>\n",
       "      <td>NaN</td>\n",
       "      <td>NaN</td>\n",
       "      <td>NaN</td>\n",
       "      <td>NaN</td>\n",
       "      <td>NaN</td>\n",
       "      <td>NaN</td>\n",
       "      <td>NaN</td>\n",
       "      <td>NaN</td>\n",
       "      <td>NaN</td>\n",
       "      <td>E</td>\n",
       "      <td>NaN</td>\n",
       "      <td>NaN</td>\n",
       "      <td>A</td>\n",
       "      <td>NaN</td>\n",
       "      <td>F</td>\n",
       "      <td>M</td>\n",
       "      <td>18.705610</td>\n",
       "      <td>NaN</td>\n",
       "      <td>NaN</td>\n",
       "      <td>NaN</td>\n",
       "      <td>NaN</td>\n",
       "      <td>NaN</td>\n",
       "      <td>NaN</td>\n",
       "      <td>NaN</td>\n",
       "      <td>NaN</td>\n",
       "      <td>NaN</td>\n",
       "      <td>NaN</td>\n",
       "      <td>BY</td>\n",
       "      <td>NaN</td>\n",
       "      <td>NaN</td>\n",
       "      <td>NaN</td>\n",
       "      <td>0</td>\n",
       "      <td>NaN</td>\n",
       "      <td>NaN</td>\n",
       "    </tr>\n",
       "    <tr>\n",
       "      <th>8</th>\n",
       "      <td>22</td>\n",
       "      <td>0</td>\n",
       "      <td>2.078651</td>\n",
       "      <td>8.462619</td>\n",
       "      <td>NaN</td>\n",
       "      <td>3.739030</td>\n",
       "      <td>5.265636</td>\n",
       "      <td>1.573033</td>\n",
       "      <td>2.303371</td>\n",
       "      <td>0.015869</td>\n",
       "      <td>11.111111</td>\n",
       "      <td>4.463894</td>\n",
       "      <td>16.050955</td>\n",
       "      <td>8.715047</td>\n",
       "      <td>2.348053</td>\n",
       "      <td>12.603403</td>\n",
       "      <td>1.580461</td>\n",
       "      <td>6.666667</td>\n",
       "      <td>3.052132</td>\n",
       "      <td>0.139939</td>\n",
       "      <td>0.180616</td>\n",
       "      <td>17.754603</td>\n",
       "      <td>6.034953</td>\n",
       "      <td>GKQ</td>\n",
       "      <td>-3.643173e-07</td>\n",
       "      <td>E</td>\n",
       "      <td>0.058906</td>\n",
       "      <td>1.647940</td>\n",
       "      <td>3.089888</td>\n",
       "      <td>0.759034</td>\n",
       "      <td>8.146068</td>\n",
       "      <td>NaN</td>\n",
       "      <td>NaN</td>\n",
       "      <td>1.264045</td>\n",
       "      <td>1.348315</td>\n",
       "      <td>6.952621</td>\n",
       "      <td>8.089888</td>\n",
       "      <td>12.754314</td>\n",
       "      <td>0.975611</td>\n",
       "      <td>0</td>\n",
       "      <td>3.169000</td>\n",
       "      <td>12.199552</td>\n",
       "      <td>7.078652</td>\n",
       "      <td>11.741573</td>\n",
       "      <td>2.038216</td>\n",
       "      <td>10.173000</td>\n",
       "      <td>7.936837</td>\n",
       "      <td>0.085176</td>\n",
       "      <td>D</td>\n",
       "      <td>12.940907</td>\n",
       "      <td>7.921348</td>\n",
       "      <td>1.675592</td>\n",
       "      <td>8.851832</td>\n",
       "      <td>H</td>\n",
       "      <td>16.551725</td>\n",
       "      <td>0.015391</td>\n",
       "      <td>1.179776</td>\n",
       "      <td>AF</td>\n",
       "      <td>4.382023</td>\n",
       "      <td>0.505051</td>\n",
       "      <td>10.022723</td>\n",
       "      <td>1.441947</td>\n",
       "      <td>15.555608</td>\n",
       "      <td>0</td>\n",
       "      <td>0.067720</td>\n",
       "      <td>5.406643</td>\n",
       "      <td>16.856447</td>\n",
       "      <td>B</td>\n",
       "      <td>8.820225</td>\n",
       "      <td>15.656566</td>\n",
       "      <td>11.666666</td>\n",
       "      <td>9.727713</td>\n",
       "      <td>B</td>\n",
       "      <td>0</td>\n",
       "      <td>1.990445</td>\n",
       "      <td>B</td>\n",
       "      <td>B</td>\n",
       "      <td>1.840990</td>\n",
       "      <td>7.078652</td>\n",
       "      <td>10.000000</td>\n",
       "      <td>P</td>\n",
       "      <td>2.962964</td>\n",
       "      <td>10.253182</td>\n",
       "      <td>8.231174</td>\n",
       "      <td>1.011235</td>\n",
       "      <td>1.348314</td>\n",
       "      <td>1.600000</td>\n",
       "      <td>0.926967</td>\n",
       "      <td>6.961616</td>\n",
       "      <td>2.471910</td>\n",
       "      <td>0.040216</td>\n",
       "      <td>0.910867</td>\n",
       "      <td>C</td>\n",
       "      <td>0.585040</td>\n",
       "      <td>5.004810</td>\n",
       "      <td>3.094116</td>\n",
       "      <td>0.632525</td>\n",
       "      <td>6.741573</td>\n",
       "      <td>6.829269</td>\n",
       "      <td>9.823610</td>\n",
       "      <td>0.720974</td>\n",
       "      <td>19.494949</td>\n",
       "      <td>6.672091</td>\n",
       "      <td>1.780246</td>\n",
       "      <td>4.679944</td>\n",
       "      <td>1.653404</td>\n",
       "      <td>0.006071</td>\n",
       "      <td>11.460973</td>\n",
       "      <td>D</td>\n",
       "      <td>1.194403</td>\n",
       "      <td>1.151316</td>\n",
       "      <td>C</td>\n",
       "      <td>1.685393</td>\n",
       "      <td>L</td>\n",
       "      <td>NaN</td>\n",
       "      <td>12.536835</td>\n",
       "      <td>8.333332</td>\n",
       "      <td>1.931034</td>\n",
       "      <td>3.419186</td>\n",
       "      <td>7.804877</td>\n",
       "      <td>5.182423e-01</td>\n",
       "      <td>1.414142</td>\n",
       "      <td>1.276595</td>\n",
       "      <td>8.148148</td>\n",
       "      <td>1.875560</td>\n",
       "      <td>0.018659</td>\n",
       "      <td>S</td>\n",
       "      <td>1.159637</td>\n",
       "      <td>5.582865</td>\n",
       "      <td>1.105283</td>\n",
       "      <td>0</td>\n",
       "      <td>1.170731</td>\n",
       "      <td>3.333334</td>\n",
       "    </tr>\n",
       "    <tr>\n",
       "      <th>9</th>\n",
       "      <td>23</td>\n",
       "      <td>1</td>\n",
       "      <td>1.144802</td>\n",
       "      <td>5.880606</td>\n",
       "      <td>C</td>\n",
       "      <td>3.244469</td>\n",
       "      <td>9.538384</td>\n",
       "      <td>2.500001</td>\n",
       "      <td>1.559405</td>\n",
       "      <td>0.412610</td>\n",
       "      <td>9.977529</td>\n",
       "      <td>2.363238</td>\n",
       "      <td>16.091401</td>\n",
       "      <td>7.417853</td>\n",
       "      <td>4.176949</td>\n",
       "      <td>13.790046</td>\n",
       "      <td>2.319558</td>\n",
       "      <td>5.900000</td>\n",
       "      <td>2.768652</td>\n",
       "      <td>0.812777</td>\n",
       "      <td>0.271822</td>\n",
       "      <td>18.410067</td>\n",
       "      <td>8.312447</td>\n",
       "      <td>PYF</td>\n",
       "      <td>3.955979e-08</td>\n",
       "      <td>C</td>\n",
       "      <td>0.509588</td>\n",
       "      <td>1.168523</td>\n",
       "      <td>1.410891</td>\n",
       "      <td>6.908275</td>\n",
       "      <td>9.059405</td>\n",
       "      <td>C</td>\n",
       "      <td>A</td>\n",
       "      <td>2.060643</td>\n",
       "      <td>2.475247</td>\n",
       "      <td>6.498729</td>\n",
       "      <td>9.603961</td>\n",
       "      <td>14.658608</td>\n",
       "      <td>0.793651</td>\n",
       "      <td>0</td>\n",
       "      <td>0.075258</td>\n",
       "      <td>10.803126</td>\n",
       "      <td>8.279704</td>\n",
       "      <td>13.267328</td>\n",
       "      <td>1.238725</td>\n",
       "      <td>10.295850</td>\n",
       "      <td>12.480398</td>\n",
       "      <td>0.343973</td>\n",
       "      <td>I</td>\n",
       "      <td>13.982603</td>\n",
       "      <td>8.954208</td>\n",
       "      <td>0.993324</td>\n",
       "      <td>6.682327</td>\n",
       "      <td>A</td>\n",
       "      <td>16.489072</td>\n",
       "      <td>0.232800</td>\n",
       "      <td>1.707922</td>\n",
       "      <td>NaN</td>\n",
       "      <td>3.811880</td>\n",
       "      <td>6.417392</td>\n",
       "      <td>13.204338</td>\n",
       "      <td>1.055074</td>\n",
       "      <td>13.528267</td>\n",
       "      <td>3</td>\n",
       "      <td>0.390694</td>\n",
       "      <td>4.874554</td>\n",
       "      <td>16.499231</td>\n",
       "      <td>A</td>\n",
       "      <td>10.290842</td>\n",
       "      <td>19.495653</td>\n",
       "      <td>9.200000</td>\n",
       "      <td>15.052754</td>\n",
       "      <td>F</td>\n",
       "      <td>3</td>\n",
       "      <td>2.781119</td>\n",
       "      <td>B</td>\n",
       "      <td>D</td>\n",
       "      <td>1.668671</td>\n",
       "      <td>8.644803</td>\n",
       "      <td>13.099999</td>\n",
       "      <td>C</td>\n",
       "      <td>2.651686</td>\n",
       "      <td>7.017475</td>\n",
       "      <td>3.679445</td>\n",
       "      <td>2.431930</td>\n",
       "      <td>2.190594</td>\n",
       "      <td>2.747749</td>\n",
       "      <td>1.512996</td>\n",
       "      <td>12.324700</td>\n",
       "      <td>0.878712</td>\n",
       "      <td>0.171153</td>\n",
       "      <td>1.189657</td>\n",
       "      <td>A</td>\n",
       "      <td>1.022954</td>\n",
       "      <td>5.432639</td>\n",
       "      <td>3.152513</td>\n",
       "      <td>1.158783</td>\n",
       "      <td>7.469059</td>\n",
       "      <td>7.380952</td>\n",
       "      <td>5.772735</td>\n",
       "      <td>1.179868</td>\n",
       "      <td>13.582609</td>\n",
       "      <td>7.197289</td>\n",
       "      <td>3.694347</td>\n",
       "      <td>4.389466</td>\n",
       "      <td>3.001609</td>\n",
       "      <td>0.278599</td>\n",
       "      <td>10.064205</td>\n",
       "      <td>E</td>\n",
       "      <td>2.240590</td>\n",
       "      <td>3.837530</td>\n",
       "      <td>A</td>\n",
       "      <td>3.972772</td>\n",
       "      <td>J</td>\n",
       "      <td>P</td>\n",
       "      <td>13.434123</td>\n",
       "      <td>10.700001</td>\n",
       "      <td>1.270491</td>\n",
       "      <td>10.719493</td>\n",
       "      <td>8.174604</td>\n",
       "      <td>8.931283e+00</td>\n",
       "      <td>0.434782</td>\n",
       "      <td>2.715964</td>\n",
       "      <td>7.325843</td>\n",
       "      <td>4.896617</td>\n",
       "      <td>0.008944</td>\n",
       "      <td>E</td>\n",
       "      <td>1.344550</td>\n",
       "      <td>1.601176</td>\n",
       "      <td>1.928009</td>\n",
       "      <td>0</td>\n",
       "      <td>3.174603</td>\n",
       "      <td>1.000000</td>\n",
       "    </tr>\n",
       "  </tbody>\n",
       "</table>\n",
       "</div>"
      ],
      "text/plain": [
       "   ID  target        v1        v2   v3        v4         v5        v6  \\\n",
       "0   3       1  1.335739  8.727474    C  3.921026   7.915266  2.599278   \n",
       "1   4       1       NaN       NaN    C       NaN   9.191265       NaN   \n",
       "2   5       1  0.943877  5.310079    C  4.410969   5.326159  3.979592   \n",
       "3   6       1  0.797415  8.304757    C  4.225930  11.627438  2.097700   \n",
       "4   8       1       NaN       NaN    C       NaN        NaN       NaN   \n",
       "5   9       0       NaN       NaN    C       NaN   8.856791       NaN   \n",
       "6  12       0  0.899806  7.312995    C  3.494148   9.946200  1.926070   \n",
       "7  21       1       NaN       NaN    C       NaN        NaN       NaN   \n",
       "8  22       0  2.078651  8.462619  NaN  3.739030   5.265636  1.573033   \n",
       "9  23       1  1.144802  5.880606    C  3.244469   9.538384  2.500001   \n",
       "\n",
       "         v7        v8         v9       v10        v11       v12       v13  \\\n",
       "0  3.176895  0.012941   9.999999  0.503281  16.434108  6.085711  2.866830   \n",
       "1       NaN  2.301630        NaN  1.312910        NaN  6.507647       NaN   \n",
       "2  3.928571  0.019645  12.666667  0.765864  14.756098  6.384670  2.505589   \n",
       "3  1.987549  0.171947   8.965516  6.542669  16.347483  9.646653  3.903302   \n",
       "4       NaN       NaN        NaN  1.050328        NaN  6.320087       NaN   \n",
       "5       NaN  0.359993        NaN  1.050328        NaN  6.216077       NaN   \n",
       "6  1.770427  0.066251   5.011287  2.341356  16.274510  7.711174  5.915588   \n",
       "7       NaN       NaN        NaN  1.838074        NaN  6.424482       NaN   \n",
       "8  2.303371  0.015869  11.111111  4.463894  16.050955  8.715047  2.348053   \n",
       "9  1.559405  0.412610   9.977529  2.363238  16.091401  7.417853  4.176949   \n",
       "\n",
       "         v14       v15       v16       v17       v18       v19        v20  \\\n",
       "0  11.636387  1.355013  8.571429  3.670350  0.106720  0.148883  18.869283   \n",
       "1  11.636386       NaN       NaN       NaN       NaN       NaN        NaN   \n",
       "2   9.603542  1.984127  5.882353  3.170847  0.244541  0.144258  17.952332   \n",
       "3  14.094723  1.945044  5.517242  3.610789  1.224114  0.231630  18.376407   \n",
       "4  10.991098       NaN       NaN       NaN       NaN       NaN        NaN   \n",
       "5  11.916255       NaN       NaN       NaN       NaN       NaN        NaN   \n",
       "6  12.148604  1.968303  6.601941  2.873974  0.484133  0.443661  17.226675   \n",
       "7  12.793945       NaN       NaN       NaN       NaN       NaN        NaN   \n",
       "8  12.603403  1.580461  6.666667  3.052132  0.139939  0.180616  17.754603   \n",
       "9  13.790046  2.319558  5.900000  2.768652  0.812777  0.271822  18.410067   \n",
       "\n",
       "        v21   v22           v23 v24       v25       v26       v27       v28  \\\n",
       "0  7.730923   XDX -1.716131e-08   C  0.139412  1.720818  3.393503  0.590122   \n",
       "1  6.763110   GUV           NaN   C  3.056144       NaN       NaN       NaN   \n",
       "2  5.245035    FQ -2.785053e-07   E  0.113997  2.244897  5.306122  0.836005   \n",
       "3  7.517125  ACUE -4.805344e-07   D  0.148843  1.308269  2.303640  8.926662   \n",
       "4  6.414567   HIT           NaN   E       NaN       NaN       NaN       NaN   \n",
       "5  7.351426   AYX           NaN   A  0.218458       NaN       NaN       NaN   \n",
       "6  6.661479   NFD  7.813019e-07   E  0.180765  1.070040  1.566147  4.393842   \n",
       "7  7.806704  AHBW           NaN   D       NaN       NaN       NaN       NaN   \n",
       "8  6.034953   GKQ -3.643173e-07   E  0.058906  1.647940  3.089888  0.759034   \n",
       "9  8.312447   PYF  3.955979e-08   C  0.509588  1.168523  1.410891  6.908275   \n",
       "\n",
       "        v29  v30  v31       v32       v33        v34       v35        v36  \\\n",
       "0  8.880867    C    A  1.083033  1.010829   7.270147  8.375452  11.326592   \n",
       "1       NaN    C    A       NaN       NaN   3.615077       NaN  14.579479   \n",
       "2  7.499999  NaN    A  1.454082  1.734693   4.043864  7.959184  12.730517   \n",
       "3  8.874521    C    B  1.587644  1.666667   8.703550  8.898468  11.302795   \n",
       "4       NaN  NaN    A       NaN       NaN   6.083151       NaN        NaN   \n",
       "5       NaN  NaN    A       NaN       NaN   7.496613       NaN  15.497964   \n",
       "6  7.928015    G    A  1.619651  2.003892   3.964911  8.735408  13.967877   \n",
       "7       NaN    C    A       NaN       NaN  11.077506       NaN        NaN   \n",
       "8  8.146068  NaN  NaN  1.264045  1.348315   6.952621  8.089888  12.754314   \n",
       "9  9.059405    C    A  2.060643  2.475247   6.498729  9.603961  14.658608   \n",
       "\n",
       "        v37  v38       v39        v40       v41        v42       v43  \\\n",
       "0  0.454546    0  4.012088   7.711453  7.653429  12.707581  2.015505   \n",
       "1       NaN    0       NaN  14.305766       NaN        NaN       NaN   \n",
       "2  0.259740    0  7.378964  13.077201  6.173469  12.346939  2.926830   \n",
       "3  0.433735    0  0.287322  11.523045  7.931035  12.935823  1.470878   \n",
       "4       NaN    0       NaN  10.138920       NaN        NaN       NaN   \n",
       "5       NaN    0       NaN   7.903915       NaN        NaN       NaN   \n",
       "6  0.549451    0  0.031587  14.787641  7.266536  14.445526  1.307190   \n",
       "7       NaN    0       NaN   3.034513       NaN        NaN       NaN   \n",
       "8  0.975611    0  3.169000  12.199552  7.078652  11.741573  2.038216   \n",
       "9  0.793651    0  0.075258  10.803126  8.279704  13.267328  1.238725   \n",
       "\n",
       "         v44        v45       v46 v47        v48       v49       v50  \\\n",
       "0  10.498338   9.848672  0.113561   C  12.171733  8.086643  0.899420   \n",
       "1        NaN        NaN  2.449959   E        NaN       NaN  1.379210   \n",
       "2   8.897561   5.343819  0.126035   C  12.711328  6.836734  0.604504   \n",
       "3  12.708574   9.670823  0.108387   C  12.194855  8.591954  3.329176   \n",
       "4        NaN        NaN       NaN   I        NaN       NaN  1.364536   \n",
       "5        NaN        NaN  0.262632   I        NaN       NaN  1.653583   \n",
       "6  11.765638   9.406689  0.110774   C  13.256878  8.365759  0.133520   \n",
       "7        NaN        NaN       NaN   I        NaN       NaN  2.682121   \n",
       "8  10.173000   7.936837  0.085176   D  12.940907  7.921348  1.675592   \n",
       "9  10.295850  12.480398  0.343973   I  13.982603  8.954208  0.993324   \n",
       "\n",
       "        v51 v52        v53       v54       v55  v56       v57       v58  \\\n",
       "0  7.277792   G  16.747968  0.037096  1.299638   DI  3.971118  0.529802   \n",
       "1       NaN   G        NaN  1.129469       NaN   DY       NaN       NaN   \n",
       "2  9.637627   F  15.102041  0.085573  0.765305   AS  4.030613  4.277456   \n",
       "3  4.780357   H  16.621695  0.139721  1.178161   BW  3.965517  1.732102   \n",
       "4       NaN   H        NaN       NaN       NaN  NaN       NaN       NaN   \n",
       "5       NaN   K        NaN  0.131278       NaN   DX       NaN       NaN   \n",
       "6  6.368555   A  16.760736  0.097693  1.721789   AS  3.677042  0.729927   \n",
       "7       NaN   C        NaN       NaN       NaN   DP       NaN       NaN   \n",
       "8  8.851832   H  16.551725  0.015391  1.179776   AF  4.382023  0.505051   \n",
       "9  6.682327   A  16.489072  0.232800  1.707922  NaN  3.811880  6.417392   \n",
       "\n",
       "         v59       v60        v61  v62       v63       v64        v65 v66  \\\n",
       "0  10.890984  1.588448  15.858152    1  0.153461  6.363189  18.303925   C   \n",
       "1        NaN       NaN        NaN    2  2.544736       NaN        NaN   A   \n",
       "2   9.105481  2.151361  16.075602    1  0.123643  5.517949  16.377205   A   \n",
       "3  11.777912  1.229246  15.927390    1  0.140260  6.292979  17.011645   A   \n",
       "4        NaN       NaN        NaN    1       NaN       NaN        NaN   C   \n",
       "5        NaN       NaN        NaN    1  0.276524       NaN        NaN   A   \n",
       "6  12.858752  0.980870  15.067893    2  0.164415  5.175563  15.655942   A   \n",
       "7        NaN       NaN        NaN    2       NaN       NaN        NaN   C   \n",
       "8  10.022723  1.441947  15.555608    0  0.067720  5.406643  16.856447   B   \n",
       "9  13.204338  1.055074  13.528267    3  0.390694  4.874554  16.499231   A   \n",
       "\n",
       "         v67        v68        v69        v70 v71  v72       v73 v74 v75  \\\n",
       "0   9.314079  15.231789  17.142857  11.784549   F    1  1.614988   B   D   \n",
       "1        NaN        NaN        NaN  12.053353   F    2       NaN   B   D   \n",
       "2   8.367347  11.040463   5.882353   8.460654   B    3  2.413618   B   B   \n",
       "3   9.703065  18.568129   9.425288  13.594728   F    2  2.272541   B   D   \n",
       "4        NaN        NaN        NaN        NaN   F    1       NaN   B   D   \n",
       "5        NaN        NaN        NaN  11.521160   F    1       NaN   B   D   \n",
       "6   8.929960  19.124088  11.456310  14.152569   F    2  2.519063   B   D   \n",
       "7        NaN        NaN        NaN        NaN   F    2       NaN   B   D   \n",
       "8   8.820225  15.656566  11.666666   9.727713   B    0  1.990445   B   B   \n",
       "9  10.290842  19.495653   9.200000  15.052754   F    3  2.781119   B   D   \n",
       "\n",
       "        v76       v77        v78 v79       v80        v81        v82  \\\n",
       "0  2.230940  7.292418   8.571429   E  3.000000   7.528326   8.861647   \n",
       "1       NaN       NaN        NaN   D       NaN   7.277655   3.430691   \n",
       "2  1.963971  5.918368  11.764705   E  3.333334  10.194433   8.266200   \n",
       "3  2.188198  8.213602  13.448277   B  1.947261   4.797873  13.315819   \n",
       "4       NaN       NaN        NaN   C       NaN        NaN        NaN   \n",
       "5       NaN       NaN        NaN   I       NaN   7.978375   3.811356   \n",
       "6  1.709188  7.354085  12.427184   E  1.534989   6.328159   3.490951   \n",
       "7       NaN       NaN        NaN   C       NaN        NaN        NaN   \n",
       "8  1.840990  7.078652  10.000000   P  2.962964  10.253182   8.231174   \n",
       "9  1.668671  8.644803  13.099999   C  2.651686   7.017475   3.679445   \n",
       "\n",
       "        v83       v84       v85       v86        v87       v88       v89  \\\n",
       "0  0.649820  1.299638  1.707317  0.866426   9.551836  3.321300  0.095678   \n",
       "1       NaN       NaN       NaN       NaN   9.848004       NaN  2.678584   \n",
       "2  1.530611  1.530613  2.429906  1.071429   8.447465  3.367346  0.111388   \n",
       "3  1.681034  1.379310  1.587045  1.242817  10.747144  1.408046  0.039051   \n",
       "4       NaN       NaN       NaN       NaN        NaN       NaN       NaN   \n",
       "5       NaN       NaN       NaN       NaN   9.618443       NaN  0.116390   \n",
       "6  1.867705  1.984436  2.591876  1.123541  10.999548  1.147860  0.075958   \n",
       "7       NaN       NaN       NaN       NaN        NaN       NaN       NaN   \n",
       "8  1.011235  1.348314  1.600000  0.926967   6.961616  2.471910  0.040216   \n",
       "9  2.431930  2.190594  2.747749  1.512996  12.324700  0.878712  0.171153   \n",
       "\n",
       "        v90 v91       v92       v93       v94       v95       v96       v97  \\\n",
       "0  0.905342   A  0.442252  5.814018  3.517720  0.462019  7.436824  5.454545   \n",
       "1       NaN   B       NaN       NaN       NaN       NaN       NaN       NaN   \n",
       "2  0.811447   G  0.271480  5.156559  4.214944  0.309657  5.663265  5.974026   \n",
       "3  1.042425   B  0.763925  5.498902  3.423944  0.832518  7.375480  6.746988   \n",
       "4       NaN   G       NaN       NaN       NaN       NaN       NaN       NaN   \n",
       "5       NaN   G       NaN       NaN       NaN       NaN       NaN       NaN   \n",
       "6  1.343752   B  0.766422  5.875069  5.841754  0.863301  6.643969  6.043957   \n",
       "7       NaN   A       NaN       NaN       NaN       NaN       NaN       NaN   \n",
       "8  0.910867   C  0.585040  5.004810  3.094116  0.632525  6.741573  6.829269   \n",
       "9  1.189657   A  1.022954  5.432639  3.152513  1.158783  7.469059  7.380952   \n",
       "\n",
       "         v98       v99       v100      v101      v102      v103      v104  \\\n",
       "0   8.877414  1.191337  19.470199  8.389237  2.757375  4.374296  1.574039   \n",
       "1   8.303967       NaN        NaN       NaN       NaN       NaN       NaN   \n",
       "2  11.588858  0.841837  15.491329  5.879353  3.292788  5.924457  1.668401   \n",
       "3   6.942002  1.334611  18.256352  8.507281  2.503055  4.872157  2.573664   \n",
       "4        NaN       NaN        NaN       NaN       NaN       NaN       NaN   \n",
       "5   8.970103       NaN        NaN       NaN       NaN       NaN       NaN   \n",
       "6   6.079678  1.301881  19.036496  7.492828  2.511898  6.310835  4.697276   \n",
       "7        NaN       NaN        NaN       NaN       NaN       NaN       NaN   \n",
       "8   9.823610  0.720974  19.494949  6.672091  1.780246  4.679944  1.653404   \n",
       "9   5.772735  1.179868  13.582609  7.197289  3.694347  4.389466  3.001609   \n",
       "\n",
       "       v105       v106 v107      v108      v109 v110      v111 v112 v113  \\\n",
       "0  0.007294  12.579184    E  2.382692  3.930922    B  0.433213    O  NaN   \n",
       "1  1.505335        NaN    B  1.825361  4.247858    A       NaN    U    G   \n",
       "2  0.008275  11.670572    C  1.375753  1.184211    B  3.367348    S  NaN   \n",
       "3  0.113967  12.554274    B  2.230754  1.990131    B  2.643678    J  NaN   \n",
       "4       NaN        NaN    C       NaN       NaN    A       NaN    T    G   \n",
       "5  0.193530        NaN    C  1.763765  2.442616    A       NaN    D    X   \n",
       "6  0.047703  11.075756    B  2.254819  5.180922    B  2.568094    I  NaN   \n",
       "7       NaN        NaN    E       NaN       NaN    A       NaN    F    M   \n",
       "8  0.006071  11.460973    D  1.194403  1.151316    C  1.685393    L  NaN   \n",
       "9  0.278599  10.064205    E  2.240590  3.837530    A  3.972772    J    P   \n",
       "\n",
       "        v114       v115      v116       v117      v118          v119  \\\n",
       "0  15.634907   2.857144  1.951220   6.592012  5.909091 -6.297423e-07   \n",
       "1  10.308044        NaN       NaN  10.595357       NaN           NaN   \n",
       "2  11.205561  12.941177  3.129253   3.478911  6.233767 -2.792745e-07   \n",
       "3  13.777666  10.574713  1.511063   4.949609  7.180722  5.655086e-01   \n",
       "4  14.097099        NaN       NaN        NaN       NaN           NaN   \n",
       "5  15.750502        NaN       NaN   8.851677       NaN           NaN   \n",
       "6   9.010082   8.543690  1.349693  12.168719  6.593406  1.532727e+00   \n",
       "7  18.705610        NaN       NaN        NaN       NaN           NaN   \n",
       "8  12.536835   8.333332  1.931034   3.419186  7.804877  5.182423e-01   \n",
       "9  13.434123  10.700001  1.270491  10.719493  8.174604  8.931283e+00   \n",
       "\n",
       "       v120      v121      v122      v123      v124 v125      v126      v127  \\\n",
       "0  1.059603  0.803572  8.000000  1.989780  0.035754   AU  1.804126  3.113719   \n",
       "1       NaN       NaN       NaN       NaN  0.598896   AF       NaN       NaN   \n",
       "2  2.138728  2.238806  9.333333  2.477596  0.013452   AE  1.773709  3.922193   \n",
       "3  1.166281  1.956521  7.018256  1.812795  0.002267   CJ  1.415230  2.954381   \n",
       "4       NaN       NaN       NaN       NaN       NaN    Z       NaN       NaN   \n",
       "5       NaN       NaN       NaN       NaN  0.049861    X       NaN       NaN   \n",
       "6  0.846716  2.232558  3.476299  1.992594  0.083758   BJ  3.276100  1.623298   \n",
       "7       NaN       NaN       NaN       NaN       NaN   BY       NaN       NaN   \n",
       "8  1.414142  1.276595  8.148148  1.875560  0.018659    S  1.159637  5.582865   \n",
       "9  0.434782  2.715964  7.325843  4.896617  0.008944    E  1.344550  1.601176   \n",
       "\n",
       "       v128  v129      v130      v131  \n",
       "0  2.024285     0  0.636365  2.857144  \n",
       "1  1.957825     0       NaN       NaN  \n",
       "2  1.120468     2  0.883118  1.176472  \n",
       "3  1.990847     1  1.677108  1.034483  \n",
       "4       NaN     0       NaN       NaN  \n",
       "5  1.536222     0       NaN       NaN  \n",
       "6  2.266575     0  2.263736  0.970873  \n",
       "7       NaN     0       NaN       NaN  \n",
       "8  1.105283     0  1.170731  3.333334  \n",
       "9  1.928009     0  3.174603  1.000000  "
      ]
     },
     "execution_count": 94,
     "metadata": {},
     "output_type": "execute_result"
    }
   ],
   "source": [
    "pd.set_option('display.max_columns',200)\n",
    "df_train.head(10)"
   ]
  },
  {
   "cell_type": "raw",
   "metadata": {},
   "source": [
    "Check columns with string labels and also print number of unique labels. \n",
    "\n",
    "We will encode the class labels as integers."
   ]
  },
  {
   "cell_type": "code",
   "execution_count": 95,
   "metadata": {
    "collapsed": false
   },
   "outputs": [
    {
     "name": "stdout",
     "output_type": "stream",
     "text": [
      "Labels in column v3: 4\n",
      "Labels in column v22: 18211\n",
      "Labels in column v24: 5\n",
      "Labels in column v30: 8\n",
      "Labels in column v31: 4\n",
      "Labels in column v47: 10\n",
      "Labels in column v52: 13\n",
      "Labels in column v56: 123\n",
      "Labels in column v66: 3\n",
      "Labels in column v71: 9\n",
      "Labels in column v74: 3\n",
      "Labels in column v75: 4\n",
      "Labels in column v79: 18\n",
      "Labels in column v91: 8\n",
      "Labels in column v107: 8\n",
      "Labels in column v110: 3\n",
      "Labels in column v112: 23\n",
      "Labels in column v113: 37\n",
      "Labels in column v125: 91\n"
     ]
    }
   ],
   "source": [
    "for i in df_train.columns:\n",
    "    if df_train[i].dtype == 'O':\n",
    "        print 'Labels in column %s:' % i, len(np.unique(df_train[i]))\n",
    "        class_mapping = {label:idx for idx,label in enumerate(np.unique(df_train[i]))}\n",
    "        df_train[i] = df_train[i].map(class_mapping)"
   ]
  },
  {
   "cell_type": "code",
   "execution_count": 6,
   "metadata": {
    "collapsed": false
   },
   "outputs": [
    {
     "data": {
      "text/plain": [
       "dtype('int64')"
      ]
     },
     "execution_count": 6,
     "metadata": {},
     "output_type": "execute_result"
    }
   ],
   "source": [
    "df_train['v22'].dtype"
   ]
  },
  {
   "cell_type": "raw",
   "metadata": {},
   "source": [
    "Check number of Nans per feature column"
   ]
  },
  {
   "cell_type": "code",
   "execution_count": 96,
   "metadata": {
    "collapsed": false
   },
   "outputs": [
    {
     "data": {
      "text/plain": [
       "ID            0\n",
       "target        0\n",
       "v1        49832\n",
       "v2        49796\n",
       "v3            0\n",
       "v4        49796\n",
       "v5        48624\n",
       "v6        49832\n",
       "v7        49832\n",
       "v8        48619\n",
       "v9        49851\n",
       "v10          84\n",
       "v11       49836\n",
       "v12          86\n",
       "v13       49832\n",
       "v14           4\n",
       "v15       49836\n",
       "v16       49895\n",
       "v17       49796\n",
       "v18       49832\n",
       "v19       49843\n",
       "v20       49840\n",
       "v21         611\n",
       "v22           0\n",
       "v23       50675\n",
       "v24           0\n",
       "v25       48619\n",
       "v26       49832\n",
       "v27       49832\n",
       "v28       49832\n",
       "          ...  \n",
       "v102      51316\n",
       "v103      49832\n",
       "v104      49832\n",
       "v105      48658\n",
       "v106      49796\n",
       "v107          0\n",
       "v108      48624\n",
       "v109      48624\n",
       "v110          0\n",
       "v111      49832\n",
       "v112          0\n",
       "v113          0\n",
       "v114         30\n",
       "v115      49895\n",
       "v116      49836\n",
       "v117      48624\n",
       "v118      49843\n",
       "v119      50680\n",
       "v120      49836\n",
       "v121      49840\n",
       "v122      49851\n",
       "v123      50678\n",
       "v124      48619\n",
       "v125          0\n",
       "v126      49832\n",
       "v127      49832\n",
       "v128      48624\n",
       "v129          0\n",
       "v130      49843\n",
       "v131      49895\n",
       "dtype: int64"
      ]
     },
     "execution_count": 96,
     "metadata": {},
     "output_type": "execute_result"
    }
   ],
   "source": [
    "df_train.isnull().sum()"
   ]
  },
  {
   "cell_type": "code",
   "execution_count": 97,
   "metadata": {
    "collapsed": false
   },
   "outputs": [
    {
     "name": "stdout",
     "output_type": "stream",
     "text": [
      "Number of samples (rows): 114321\n"
     ]
    }
   ],
   "source": [
    "print 'Number of samples (rows): %1.f' % len(df_train['v1'])"
   ]
  },
  {
   "cell_type": "raw",
   "metadata": {},
   "source": [
    "Remove columns with more than some threshold NaNs"
   ]
  },
  {
   "cell_type": "code",
   "execution_count": 98,
   "metadata": {
    "collapsed": true
   },
   "outputs": [],
   "source": [
    "df_train_pruned = df_train.dropna(thresh = int(0.75*114321), axis=1)"
   ]
  },
  {
   "cell_type": "code",
   "execution_count": 99,
   "metadata": {
    "collapsed": false
   },
   "outputs": [
    {
     "data": {
      "text/plain": [
       "33"
      ]
     },
     "execution_count": 99,
     "metadata": {},
     "output_type": "execute_result"
    }
   ],
   "source": [
    "len(df_train_pruned.columns)"
   ]
  },
  {
   "cell_type": "code",
   "execution_count": 100,
   "metadata": {
    "collapsed": false
   },
   "outputs": [
    {
     "data": {
      "text/html": [
       "<div>\n",
       "<table border=\"1\" class=\"dataframe\">\n",
       "  <thead>\n",
       "    <tr style=\"text-align: right;\">\n",
       "      <th></th>\n",
       "      <th>ID</th>\n",
       "      <th>target</th>\n",
       "      <th>v3</th>\n",
       "      <th>v10</th>\n",
       "      <th>v12</th>\n",
       "      <th>v14</th>\n",
       "      <th>v21</th>\n",
       "      <th>v22</th>\n",
       "      <th>v24</th>\n",
       "      <th>v30</th>\n",
       "      <th>v31</th>\n",
       "      <th>v34</th>\n",
       "      <th>v38</th>\n",
       "      <th>v40</th>\n",
       "      <th>v47</th>\n",
       "      <th>v50</th>\n",
       "      <th>v52</th>\n",
       "      <th>v56</th>\n",
       "      <th>v62</th>\n",
       "      <th>v66</th>\n",
       "      <th>v71</th>\n",
       "      <th>v72</th>\n",
       "      <th>v74</th>\n",
       "      <th>v75</th>\n",
       "      <th>v79</th>\n",
       "      <th>v91</th>\n",
       "      <th>v107</th>\n",
       "      <th>v110</th>\n",
       "      <th>v112</th>\n",
       "      <th>v113</th>\n",
       "      <th>v114</th>\n",
       "      <th>v125</th>\n",
       "      <th>v129</th>\n",
       "    </tr>\n",
       "  </thead>\n",
       "  <tbody>\n",
       "    <tr>\n",
       "      <th>0</th>\n",
       "      <td>3</td>\n",
       "      <td>1</td>\n",
       "      <td>3</td>\n",
       "      <td>0.503281</td>\n",
       "      <td>6.085711</td>\n",
       "      <td>11.636387</td>\n",
       "      <td>7.730923</td>\n",
       "      <td>16671</td>\n",
       "      <td>2</td>\n",
       "      <td>3</td>\n",
       "      <td>1</td>\n",
       "      <td>7.270147</td>\n",
       "      <td>0</td>\n",
       "      <td>7.711453</td>\n",
       "      <td>2</td>\n",
       "      <td>0.899420</td>\n",
       "      <td>7</td>\n",
       "      <td>86</td>\n",
       "      <td>1</td>\n",
       "      <td>2</td>\n",
       "      <td>4</td>\n",
       "      <td>1</td>\n",
       "      <td>1</td>\n",
       "      <td>3</td>\n",
       "      <td>4</td>\n",
       "      <td>1</td>\n",
       "      <td>5</td>\n",
       "      <td>1</td>\n",
       "      <td>15</td>\n",
       "      <td>0</td>\n",
       "      <td>15.634907</td>\n",
       "      <td>22</td>\n",
       "      <td>0</td>\n",
       "    </tr>\n",
       "    <tr>\n",
       "      <th>1</th>\n",
       "      <td>4</td>\n",
       "      <td>1</td>\n",
       "      <td>3</td>\n",
       "      <td>1.312910</td>\n",
       "      <td>6.507647</td>\n",
       "      <td>11.636386</td>\n",
       "      <td>6.763110</td>\n",
       "      <td>7734</td>\n",
       "      <td>2</td>\n",
       "      <td>3</td>\n",
       "      <td>1</td>\n",
       "      <td>3.615077</td>\n",
       "      <td>0</td>\n",
       "      <td>14.305766</td>\n",
       "      <td>4</td>\n",
       "      <td>1.379210</td>\n",
       "      <td>7</td>\n",
       "      <td>102</td>\n",
       "      <td>2</td>\n",
       "      <td>0</td>\n",
       "      <td>4</td>\n",
       "      <td>2</td>\n",
       "      <td>1</td>\n",
       "      <td>3</td>\n",
       "      <td>3</td>\n",
       "      <td>2</td>\n",
       "      <td>2</td>\n",
       "      <td>0</td>\n",
       "      <td>21</td>\n",
       "      <td>18</td>\n",
       "      <td>10.308044</td>\n",
       "      <td>7</td>\n",
       "      <td>0</td>\n",
       "    </tr>\n",
       "    <tr>\n",
       "      <th>2</th>\n",
       "      <td>5</td>\n",
       "      <td>1</td>\n",
       "      <td>3</td>\n",
       "      <td>0.765864</td>\n",
       "      <td>6.384670</td>\n",
       "      <td>9.603542</td>\n",
       "      <td>5.245035</td>\n",
       "      <td>7087</td>\n",
       "      <td>4</td>\n",
       "      <td>0</td>\n",
       "      <td>1</td>\n",
       "      <td>4.043864</td>\n",
       "      <td>0</td>\n",
       "      <td>13.077201</td>\n",
       "      <td>2</td>\n",
       "      <td>0.604504</td>\n",
       "      <td>6</td>\n",
       "      <td>18</td>\n",
       "      <td>1</td>\n",
       "      <td>0</td>\n",
       "      <td>1</td>\n",
       "      <td>3</td>\n",
       "      <td>1</td>\n",
       "      <td>1</td>\n",
       "      <td>4</td>\n",
       "      <td>7</td>\n",
       "      <td>3</td>\n",
       "      <td>1</td>\n",
       "      <td>19</td>\n",
       "      <td>0</td>\n",
       "      <td>11.205561</td>\n",
       "      <td>6</td>\n",
       "      <td>2</td>\n",
       "    </tr>\n",
       "    <tr>\n",
       "      <th>3</th>\n",
       "      <td>6</td>\n",
       "      <td>1</td>\n",
       "      <td>3</td>\n",
       "      <td>6.542669</td>\n",
       "      <td>9.646653</td>\n",
       "      <td>14.094723</td>\n",
       "      <td>7.517125</td>\n",
       "      <td>1511</td>\n",
       "      <td>3</td>\n",
       "      <td>3</td>\n",
       "      <td>2</td>\n",
       "      <td>8.703550</td>\n",
       "      <td>0</td>\n",
       "      <td>11.523045</td>\n",
       "      <td>2</td>\n",
       "      <td>3.329176</td>\n",
       "      <td>8</td>\n",
       "      <td>48</td>\n",
       "      <td>1</td>\n",
       "      <td>0</td>\n",
       "      <td>4</td>\n",
       "      <td>2</td>\n",
       "      <td>1</td>\n",
       "      <td>3</td>\n",
       "      <td>1</td>\n",
       "      <td>2</td>\n",
       "      <td>2</td>\n",
       "      <td>1</td>\n",
       "      <td>10</td>\n",
       "      <td>0</td>\n",
       "      <td>13.777666</td>\n",
       "      <td>65</td>\n",
       "      <td>1</td>\n",
       "    </tr>\n",
       "    <tr>\n",
       "      <th>4</th>\n",
       "      <td>8</td>\n",
       "      <td>1</td>\n",
       "      <td>3</td>\n",
       "      <td>1.050328</td>\n",
       "      <td>6.320087</td>\n",
       "      <td>10.991098</td>\n",
       "      <td>6.414567</td>\n",
       "      <td>8038</td>\n",
       "      <td>4</td>\n",
       "      <td>0</td>\n",
       "      <td>1</td>\n",
       "      <td>6.083151</td>\n",
       "      <td>0</td>\n",
       "      <td>10.138920</td>\n",
       "      <td>8</td>\n",
       "      <td>1.364536</td>\n",
       "      <td>8</td>\n",
       "      <td>0</td>\n",
       "      <td>1</td>\n",
       "      <td>2</td>\n",
       "      <td>4</td>\n",
       "      <td>1</td>\n",
       "      <td>1</td>\n",
       "      <td>3</td>\n",
       "      <td>2</td>\n",
       "      <td>7</td>\n",
       "      <td>3</td>\n",
       "      <td>0</td>\n",
       "      <td>20</td>\n",
       "      <td>18</td>\n",
       "      <td>14.097099</td>\n",
       "      <td>90</td>\n",
       "      <td>0</td>\n",
       "    </tr>\n",
       "  </tbody>\n",
       "</table>\n",
       "</div>"
      ],
      "text/plain": [
       "   ID  target  v3       v10       v12        v14       v21    v22  v24  v30  \\\n",
       "0   3       1   3  0.503281  6.085711  11.636387  7.730923  16671    2    3   \n",
       "1   4       1   3  1.312910  6.507647  11.636386  6.763110   7734    2    3   \n",
       "2   5       1   3  0.765864  6.384670   9.603542  5.245035   7087    4    0   \n",
       "3   6       1   3  6.542669  9.646653  14.094723  7.517125   1511    3    3   \n",
       "4   8       1   3  1.050328  6.320087  10.991098  6.414567   8038    4    0   \n",
       "\n",
       "   v31       v34  v38        v40  v47       v50  v52  v56  v62  v66  v71  v72  \\\n",
       "0    1  7.270147    0   7.711453    2  0.899420    7   86    1    2    4    1   \n",
       "1    1  3.615077    0  14.305766    4  1.379210    7  102    2    0    4    2   \n",
       "2    1  4.043864    0  13.077201    2  0.604504    6   18    1    0    1    3   \n",
       "3    2  8.703550    0  11.523045    2  3.329176    8   48    1    0    4    2   \n",
       "4    1  6.083151    0  10.138920    8  1.364536    8    0    1    2    4    1   \n",
       "\n",
       "   v74  v75  v79  v91  v107  v110  v112  v113       v114  v125  v129  \n",
       "0    1    3    4    1     5     1    15     0  15.634907    22     0  \n",
       "1    1    3    3    2     2     0    21    18  10.308044     7     0  \n",
       "2    1    1    4    7     3     1    19     0  11.205561     6     2  \n",
       "3    1    3    1    2     2     1    10     0  13.777666    65     1  \n",
       "4    1    3    2    7     3     0    20    18  14.097099    90     0  "
      ]
     },
     "execution_count": 100,
     "metadata": {},
     "output_type": "execute_result"
    }
   ],
   "source": [
    "df_train_pruned.head()"
   ]
  },
  {
   "cell_type": "code",
   "execution_count": 101,
   "metadata": {
    "collapsed": false
   },
   "outputs": [
    {
     "data": {
      "text/plain": [
       "ID          0\n",
       "target      0\n",
       "v3          0\n",
       "v10        84\n",
       "v12        86\n",
       "v14         4\n",
       "v21       611\n",
       "v22         0\n",
       "v24         0\n",
       "v30         0\n",
       "v31         0\n",
       "v34       111\n",
       "v38         0\n",
       "v40       111\n",
       "v47         0\n",
       "v50        86\n",
       "v52         0\n",
       "v56         0\n",
       "v62         0\n",
       "v66         0\n",
       "v71         0\n",
       "v72         0\n",
       "v74         0\n",
       "v75         0\n",
       "v79         0\n",
       "v91         0\n",
       "v107        0\n",
       "v110        0\n",
       "v112        0\n",
       "v113        0\n",
       "v114       30\n",
       "v125        0\n",
       "v129        0\n",
       "dtype: int64"
      ]
     },
     "execution_count": 101,
     "metadata": {},
     "output_type": "execute_result"
    }
   ],
   "source": [
    "df_train_pruned.isnull().sum()"
   ]
  },
  {
   "cell_type": "code",
   "execution_count": 51,
   "metadata": {
    "collapsed": false
   },
   "outputs": [],
   "source": [
    "X_train = df_train_pruned.iloc[:,2:].values\n",
    "y_train = df_train_pruned.iloc[:,1].values\n",
    "#y_train = y_train.reshape(y_train.shape[0],1)"
   ]
  },
  {
   "cell_type": "code",
   "execution_count": 52,
   "metadata": {
    "collapsed": false
   },
   "outputs": [
    {
     "data": {
      "text/plain": [
       "(114321,)"
      ]
     },
     "execution_count": 52,
     "metadata": {},
     "output_type": "execute_result"
    }
   ],
   "source": [
    "y_train.shape"
   ]
  },
  {
   "cell_type": "code",
   "execution_count": 53,
   "metadata": {
    "collapsed": false
   },
   "outputs": [
    {
     "data": {
      "text/plain": [
       "(114321, 31)"
      ]
     },
     "execution_count": 53,
     "metadata": {},
     "output_type": "execute_result"
    }
   ],
   "source": [
    "X_train.shape"
   ]
  },
  {
   "cell_type": "markdown",
   "metadata": {},
   "source": [
    "## Impute missing values"
   ]
  },
  {
   "cell_type": "code",
   "execution_count": 15,
   "metadata": {
    "collapsed": false
   },
   "outputs": [],
   "source": [
    "from sklearn.preprocessing import Imputer\n",
    "imr = Imputer(missing_values='NaN', strategy='mean', axis=0)\n",
    "imr.fit(X_train)\n",
    "X_train_im = imr.transform(X_train)"
   ]
  },
  {
   "cell_type": "code",
   "execution_count": 22,
   "metadata": {
    "collapsed": false
   },
   "outputs": [
    {
     "data": {
      "text/plain": [
       "array([[  3.        ,   0.50328147,   6.08571076, ...,  15.6349074 ,\n",
       "         22.        ,   0.        ],\n",
       "       [  3.        ,   1.31290992,   6.50764678, ...,  10.30804351,\n",
       "          7.        ,   0.        ],\n",
       "       [  3.        ,   0.76586397,   6.38467003, ...,  11.20556132,\n",
       "          6.        ,   2.        ],\n",
       "       ..., \n",
       "       [  3.        ,   2.07877492,   6.6989251 , ...,   8.89313389,\n",
       "         81.        ,   2.        ],\n",
       "       [  3.        ,   1.29102858,   6.69220436, ...,  12.38111312,\n",
       "         51.        ,   0.        ],\n",
       "       [  3.        ,   0.85339132,   6.30639645, ...,  14.63529757,\n",
       "         86.        ,   0.        ]])"
      ]
     },
     "execution_count": 22,
     "metadata": {},
     "output_type": "execute_result"
    }
   ],
   "source": [
    "X_train"
   ]
  },
  {
   "cell_type": "code",
   "execution_count": 17,
   "metadata": {
    "collapsed": false
   },
   "outputs": [
    {
     "data": {
      "text/plain": [
       "array([[  3.        ,   0.50328147,   6.08571076, ...,  15.6349074 ,\n",
       "         22.        ,   0.        ],\n",
       "       [  3.        ,   1.31290992,   6.50764678, ...,  10.30804351,\n",
       "          7.        ,   0.        ],\n",
       "       [  3.        ,   0.76586397,   6.38467003, ...,  11.20556132,\n",
       "          6.        ,   2.        ],\n",
       "       ..., \n",
       "       [  3.        ,   2.07877492,   6.6989251 , ...,   8.89313389,\n",
       "         81.        ,   2.        ],\n",
       "       [  3.        ,   1.29102858,   6.69220436, ...,  12.38111312,\n",
       "         51.        ,   0.        ],\n",
       "       [  3.        ,   0.85339132,   6.30639645, ...,  14.63529757,\n",
       "         86.        ,   0.        ]])"
      ]
     },
     "execution_count": 17,
     "metadata": {},
     "output_type": "execute_result"
    }
   ],
   "source": [
    "X_train_im"
   ]
  },
  {
   "cell_type": "markdown",
   "metadata": {},
   "source": [
    "## Feature Selection w/ SBS\n",
    "### (Warning: This takes a long time)"
   ]
  },
  {
   "cell_type": "code",
   "execution_count": null,
   "metadata": {
    "collapsed": true
   },
   "outputs": [],
   "source": [
    "from sklearn.base import clone\n",
    "from itertools import combinations\n",
    "import numpy as np\n",
    "from sklearn.cross_validation import train_test_split\n",
    "from sklearn.metrics import accuracy_score\n",
    "import sys\n",
    "\n",
    "class SBS():\n",
    "    def __init__(self, estimator, k_features, scoring=accuracy_score,\n",
    "                 test_size=0.25, random_state=1):\n",
    "        self.scoring = scoring\n",
    "        self.estimator = clone(estimator)\n",
    "        self.k_features = k_features\n",
    "        self.test_size = test_size\n",
    "        self.random_state = random_state\n",
    "\n",
    "    def fit(self, X, y):\n",
    "        \n",
    "        X_train, X_test, y_train, y_test = \\\n",
    "                train_test_split(X, y, test_size=self.test_size, \n",
    "                                 random_state=self.random_state)\n",
    "\n",
    "        dim = X_train.shape[1]\n",
    "        self.indices_ = tuple(range(dim))\n",
    "        self.subsets_ = [self.indices_]\n",
    "        score = self._calc_score(X_train, y_train, \n",
    "                                 X_test, y_test, self.indices_)\n",
    "        self.scores_ = [score]\n",
    "\n",
    "        while dim > self.k_features:\n",
    "                        \n",
    "            sys.stderr.write('\\rIteration: %d/%d' % (dim, self.k_features))\n",
    "            sys.stderr.flush()\n",
    "            \n",
    "            scores = []\n",
    "            subsets = []\n",
    "\n",
    "            for p in combinations(self.indices_, r=dim-1):\n",
    "                score = self._calc_score(X_train, y_train, \n",
    "                                         X_test, y_test, p)\n",
    "                scores.append(score)\n",
    "                subsets.append(p)\n",
    "\n",
    "            best = np.argmax(scores)\n",
    "            self.indices_ = subsets[best]\n",
    "            self.subsets_.append(self.indices_)\n",
    "            dim -= 1\n",
    "\n",
    "            self.scores_.append(scores[best])\n",
    "        self.k_score_ = self.scores_[-1]\n",
    "\n",
    "        return self\n",
    "\n",
    "    def transform(self, X):\n",
    "        return X[:, self.indices_]\n",
    "\n",
    "    def _calc_score(self, X_train, y_train, X_test, y_test, indices):\n",
    "        self.estimator.fit(X_train[:, indices], y_train)\n",
    "        y_pred = self.estimator.predict(X_test[:, indices])\n",
    "        score = self.scoring(y_test, y_pred)\n",
    "        return score"
   ]
  },
  {
   "cell_type": "raw",
   "metadata": {},
   "source": [
    "Let's standardize the feature set"
   ]
  },
  {
   "cell_type": "code",
   "execution_count": 23,
   "metadata": {
    "collapsed": false
   },
   "outputs": [],
   "source": [
    "from sklearn.preprocessing import StandardScaler"
   ]
  },
  {
   "cell_type": "code",
   "execution_count": 24,
   "metadata": {
    "collapsed": true
   },
   "outputs": [],
   "source": [
    "stdsc = StandardScaler()"
   ]
  },
  {
   "cell_type": "code",
   "execution_count": 25,
   "metadata": {
    "collapsed": false
   },
   "outputs": [
    {
     "data": {
      "text/plain": [
       "(114321, 31)"
      ]
     },
     "execution_count": 25,
     "metadata": {},
     "output_type": "execute_result"
    }
   ],
   "source": [
    "X_train_std = stdsc.fit_transform(X_train_im)\n",
    "X_train_std.shape"
   ]
  },
  {
   "cell_type": "code",
   "execution_count": 26,
   "metadata": {
    "collapsed": false
   },
   "outputs": [
    {
     "data": {
      "text/plain": [
       "array([[ 0.18261343, -0.99017125, -0.86089917, ...,  0.78858071,\n",
       "        -0.97301635, -0.44737166],\n",
       "       [ 0.18261343, -0.40915114, -0.40432896, ..., -1.25012396,\n",
       "        -1.56343976, -0.44737166],\n",
       "       [ 0.18261343, -0.80173208, -0.53740013, ..., -0.90662471,\n",
       "        -1.60280132,  2.43755476],\n",
       "       ..., \n",
       "       [ 0.18261343,  0.14046265, -0.19734976, ..., -1.79164011,\n",
       "         1.34931571,  2.43755476],\n",
       "       [ 0.18261343, -0.42485402, -0.20462216, ..., -0.45671591,\n",
       "         0.1684689 , -0.44737166],\n",
       "       [ 0.18261343, -0.73891913, -0.62209872, ...,  0.40600866,\n",
       "         1.54612351, -0.44737166]])"
      ]
     },
     "execution_count": 26,
     "metadata": {},
     "output_type": "execute_result"
    }
   ],
   "source": [
    "X_train_std"
   ]
  },
  {
   "cell_type": "code",
   "execution_count": 27,
   "metadata": {
    "collapsed": true
   },
   "outputs": [],
   "source": [
    "%matplotlib inline\n",
    "from sklearn.neighbors import KNeighborsClassifier\n",
    "import matplotlib.pyplot as plt\n",
    "import seaborn as sns; sns.set()"
   ]
  },
  {
   "cell_type": "code",
   "execution_count": null,
   "metadata": {
    "collapsed": true
   },
   "outputs": [],
   "source": [
    "knn = KNeighborsClassifier(n_neighbors=2)"
   ]
  },
  {
   "cell_type": "code",
   "execution_count": null,
   "metadata": {
    "collapsed": true
   },
   "outputs": [],
   "source": [
    "sbs = SBS(knn,k_features=1)"
   ]
  },
  {
   "cell_type": "code",
   "execution_count": null,
   "metadata": {
    "collapsed": false
   },
   "outputs": [],
   "source": [
    "#sbs.fit(X_train_std, y_train)"
   ]
  },
  {
   "cell_type": "code",
   "execution_count": null,
   "metadata": {
    "collapsed": false
   },
   "outputs": [],
   "source": [
    "# plotting performance of feature subsets\n",
    "k_feat = [len(k) for k in sbs.subsets_]"
   ]
  },
  {
   "cell_type": "code",
   "execution_count": null,
   "metadata": {
    "collapsed": false
   },
   "outputs": [],
   "source": [
    "plt.plot(k_feat,sbs.scores_,marker='o')\n",
    "plt.ylim([0.5,1.1])\n",
    "plt.ylabel('Accuracy')\n",
    "plt.xlabel('Number of features')"
   ]
  },
  {
   "cell_type": "code",
   "execution_count": null,
   "metadata": {
    "collapsed": false
   },
   "outputs": [],
   "source": [
    "k5 = list(sbs.subsets_[6])\n",
    "print(df_train_pruned.columns[1:][k5])"
   ]
  },
  {
   "cell_type": "code",
   "execution_count": null,
   "metadata": {
    "collapsed": false
   },
   "outputs": [],
   "source": [
    "knn.fit(X_train_std, y_train)\n",
    "print('Training accuracy:', knn.score(X_train_std, y_train))"
   ]
  },
  {
   "cell_type": "markdown",
   "metadata": {
    "collapsed": true
   },
   "source": [
    "## Feature Selection w/ L1 Regularization"
   ]
  },
  {
   "cell_type": "code",
   "execution_count": null,
   "metadata": {
    "collapsed": false
   },
   "outputs": [],
   "source": [
    "from sklearn.linear_model import LogisticRegression\n",
    "\n",
    "lr = LogisticRegression(penalty='l1', C=0.1)\n",
    "lr.fit(X_train_std, y_train)\n",
    "print('Training accuracy:', lr.score(X_train_std, y_train))"
   ]
  },
  {
   "cell_type": "code",
   "execution_count": null,
   "metadata": {
    "collapsed": false
   },
   "outputs": [],
   "source": [
    "lr.coef_.shape"
   ]
  },
  {
   "cell_type": "code",
   "execution_count": null,
   "metadata": {
    "collapsed": false
   },
   "outputs": [],
   "source": [
    "fig = plt.figure()\n",
    "ax = plt.subplot(111)\n",
    "\n",
    "weights, params = [],[]\n",
    "\n",
    "## Iterate over regularization paramter C\n",
    "for c in np.arange(-4,6):\n",
    "    lr = LogisticRegression(penalty='l1', C=10**c, random_state=0)\n",
    "    lr.fit(X_train_std, y_train)\n",
    "    weights.append(lr.coef_[0])\n",
    "    params.append(10**c)\n",
    "    \n",
    "weights = np.array(weights)"
   ]
  },
  {
   "cell_type": "code",
   "execution_count": null,
   "metadata": {
    "collapsed": false
   },
   "outputs": [],
   "source": [
    "for column in range(weights.shape[1]):\n",
    "    plt.plot(params, weights[:,column], \n",
    "             label=df_train_pruned.columns[column+2])\n",
    "    \n",
    "plt.axhline(0, color='black', linestyle='--', linewidth=3)\n",
    "plt.xlim([10**(-5), 10**5])\n",
    "plt.ylabel('weight coefficient')\n",
    "plt.xlabel('C')\n",
    "plt.xscale('log')\n",
    "plt.legend(loc='upper left')\n",
    "ax.legend(loc='upper center', \n",
    "          bbox_to_anchor=(1.38, 1.03),\n",
    "          ncol=1, fancybox=True)"
   ]
  },
  {
   "cell_type": "code",
   "execution_count": null,
   "metadata": {
    "collapsed": false
   },
   "outputs": [],
   "source": [
    "len(np.unique(y_train))"
   ]
  },
  {
   "cell_type": "code",
   "execution_count": null,
   "metadata": {
    "collapsed": false
   },
   "outputs": [],
   "source": [
    "lr.n_iter_.shape"
   ]
  },
  {
   "cell_type": "markdown",
   "metadata": {
    "collapsed": true
   },
   "source": [
    "## Feature Selection w/ random forest"
   ]
  },
  {
   "cell_type": "code",
   "execution_count": 28,
   "metadata": {
    "collapsed": false
   },
   "outputs": [
    {
     "data": {
      "text/plain": [
       "0.76119872989214576"
      ]
     },
     "execution_count": 28,
     "metadata": {},
     "output_type": "execute_result"
    }
   ],
   "source": [
    "y_train[y_train==1].sum()/float(len(y_train))"
   ]
  },
  {
   "cell_type": "code",
   "execution_count": 29,
   "metadata": {
    "collapsed": false
   },
   "outputs": [
    {
     "data": {
      "text/plain": [
       "array([0, 1], dtype=int64)"
      ]
     },
     "execution_count": 29,
     "metadata": {},
     "output_type": "execute_result"
    }
   ],
   "source": [
    "np.unique(y_train)"
   ]
  },
  {
   "cell_type": "code",
   "execution_count": 30,
   "metadata": {
    "collapsed": false
   },
   "outputs": [
    {
     "data": {
      "text/plain": [
       "0.2388012701078542"
      ]
     },
     "execution_count": 30,
     "metadata": {},
     "output_type": "execute_result"
    }
   ],
   "source": [
    "len(y_train[y_train==0])/float(len(y_train))"
   ]
  },
  {
   "cell_type": "code",
   "execution_count": 31,
   "metadata": {
    "collapsed": true
   },
   "outputs": [],
   "source": [
    "from sklearn.ensemble import RandomForestClassifier"
   ]
  },
  {
   "cell_type": "code",
   "execution_count": 32,
   "metadata": {
    "collapsed": true
   },
   "outputs": [],
   "source": [
    "feat_labels = df_train_pruned.columns[2:]"
   ]
  },
  {
   "cell_type": "code",
   "execution_count": 33,
   "metadata": {
    "collapsed": true
   },
   "outputs": [],
   "source": [
    "forest = RandomForestClassifier(n_estimators=100,\n",
    "                                random_state=0,\n",
    "                                n_jobs=-1)"
   ]
  },
  {
   "cell_type": "code",
   "execution_count": 34,
   "metadata": {
    "collapsed": false
   },
   "outputs": [],
   "source": [
    "forest.fit(X_train_im, y_train)\n",
    "importances = forest.feature_importances_"
   ]
  },
  {
   "cell_type": "code",
   "execution_count": 35,
   "metadata": {
    "collapsed": false
   },
   "outputs": [
    {
     "name": "stdout",
     "output_type": "stream",
     "text": [
      " 1) v50                            0.120566\n",
      " 2) v12                            0.067445\n",
      " 3) v21                            0.062100\n",
      " 4) v22                            0.062003\n",
      " 5) v114                           0.061961\n",
      " 6) v34                            0.061387\n",
      " 7) v10                            0.061168\n",
      " 8) v40                            0.060484\n",
      " 9) v14                            0.057958\n",
      "10) v125                           0.051472\n",
      "11) v112                           0.039851\n",
      "12) v52                            0.038558\n",
      "13) v56                            0.028515\n",
      "14) v113                           0.025697\n",
      "15) v66                            0.024337\n",
      "16) v107                           0.022658\n",
      "17) v91                            0.022233\n",
      "18) v30                            0.019619\n",
      "19) v24                            0.018473\n",
      "20) v79                            0.016378\n",
      "21) v47                            0.013559\n",
      "22) v62                            0.012518\n",
      "23) v72                            0.010453\n",
      "24) v71                            0.010394\n",
      "25) v110                           0.008049\n",
      "26) v75                            0.007478\n",
      "27) v129                           0.006612\n",
      "28) v31                            0.005641\n",
      "29) v38                            0.001451\n",
      "30) v74                            0.000590\n",
      "31) v3                             0.000393\n"
     ]
    }
   ],
   "source": [
    "indices = np.argsort(importances)[::-1]\n",
    "\n",
    "for f in range(X_train.shape[1]):\n",
    "    print(\"%2d) %-*s %f\" % (f + 1, 30, \n",
    "                            feat_labels[indices[f]], \n",
    "                            importances[indices[f]]))\n"
   ]
  },
  {
   "cell_type": "code",
   "execution_count": 36,
   "metadata": {
    "collapsed": false
   },
   "outputs": [
    {
     "data": {
      "text/plain": [
       "(-1, 31)"
      ]
     },
     "execution_count": 36,
     "metadata": {},
     "output_type": "execute_result"
    },
    {
     "data": {
      "image/png": "[encoded data removed]",
      "text/plain": [
       "<matplotlib.figure.Figure at 0x9e9f71ec>"
      ]
     },
     "metadata": {},
     "output_type": "display_data"
    }
   ],
   "source": [
    "plt.title('Feature Importances')\n",
    "plt.bar(range(X_train.shape[1]), \n",
    "        importances[indices],\n",
    "        color='lightblue', \n",
    "        align='center')\n",
    "\n",
    "plt.xticks(range(X_train.shape[1]), \n",
    "           feat_labels[indices], rotation=90)\n",
    "plt.xlim([-1, X_train.shape[1]])"
   ]
  },
  {
   "cell_type": "raw",
   "metadata": {},
   "source": [
    "Let's use only features with importance >0.04 "
   ]
  },
  {
   "cell_type": "code",
   "execution_count": 102,
   "metadata": {
    "collapsed": false
   },
   "outputs": [
    {
     "data": {
      "text/plain": [
       "Index([u'ID', u'target', u'v3', u'v10', u'v12', u'v14', u'v21', u'v22', u'v24',\n",
       "       u'v30', u'v31', u'v34', u'v38', u'v40', u'v47', u'v50', u'v52', u'v56',\n",
       "       u'v62', u'v66', u'v71', u'v72', u'v74', u'v75', u'v79', u'v91', u'v107',\n",
       "       u'v110', u'v112', u'v113', u'v114', u'v125', u'v129'],\n",
       "      dtype='object')"
      ]
     },
     "execution_count": 102,
     "metadata": {},
     "output_type": "execute_result"
    }
   ],
   "source": [
    "df_train_pruned.columns"
   ]
  },
  {
   "cell_type": "code",
   "execution_count": 103,
   "metadata": {
    "collapsed": true
   },
   "outputs": [],
   "source": [
    "features_list = ['target','v50','v12','v21','v22',\n",
    "                 'v114','v34','v10','v40','v14','v125',\n",
    "                 'v112','v52']"
   ]
  },
  {
   "cell_type": "code",
   "execution_count": 104,
   "metadata": {
    "collapsed": true
   },
   "outputs": [],
   "source": [
    "df_train_slimmed = df_train_pruned[features_list]"
   ]
  },
  {
   "cell_type": "code",
   "execution_count": 105,
   "metadata": {
    "collapsed": false
   },
   "outputs": [
    {
     "data": {
      "text/html": [
       "<div>\n",
       "<table border=\"1\" class=\"dataframe\">\n",
       "  <thead>\n",
       "    <tr style=\"text-align: right;\">\n",
       "      <th></th>\n",
       "      <th>target</th>\n",
       "      <th>v50</th>\n",
       "      <th>v12</th>\n",
       "      <th>v21</th>\n",
       "      <th>v22</th>\n",
       "      <th>v114</th>\n",
       "      <th>v34</th>\n",
       "      <th>v10</th>\n",
       "      <th>v40</th>\n",
       "      <th>v14</th>\n",
       "      <th>v125</th>\n",
       "      <th>v112</th>\n",
       "      <th>v52</th>\n",
       "    </tr>\n",
       "  </thead>\n",
       "  <tbody>\n",
       "    <tr>\n",
       "      <th>0</th>\n",
       "      <td>1</td>\n",
       "      <td>0.899420</td>\n",
       "      <td>6.085711</td>\n",
       "      <td>7.730923</td>\n",
       "      <td>16671</td>\n",
       "      <td>15.634907</td>\n",
       "      <td>7.270147</td>\n",
       "      <td>0.503281</td>\n",
       "      <td>7.711453</td>\n",
       "      <td>11.636387</td>\n",
       "      <td>22</td>\n",
       "      <td>15</td>\n",
       "      <td>7</td>\n",
       "    </tr>\n",
       "    <tr>\n",
       "      <th>1</th>\n",
       "      <td>1</td>\n",
       "      <td>1.379210</td>\n",
       "      <td>6.507647</td>\n",
       "      <td>6.763110</td>\n",
       "      <td>7734</td>\n",
       "      <td>10.308044</td>\n",
       "      <td>3.615077</td>\n",
       "      <td>1.312910</td>\n",
       "      <td>14.305766</td>\n",
       "      <td>11.636386</td>\n",
       "      <td>7</td>\n",
       "      <td>21</td>\n",
       "      <td>7</td>\n",
       "    </tr>\n",
       "    <tr>\n",
       "      <th>2</th>\n",
       "      <td>1</td>\n",
       "      <td>0.604504</td>\n",
       "      <td>6.384670</td>\n",
       "      <td>5.245035</td>\n",
       "      <td>7087</td>\n",
       "      <td>11.205561</td>\n",
       "      <td>4.043864</td>\n",
       "      <td>0.765864</td>\n",
       "      <td>13.077201</td>\n",
       "      <td>9.603542</td>\n",
       "      <td>6</td>\n",
       "      <td>19</td>\n",
       "      <td>6</td>\n",
       "    </tr>\n",
       "    <tr>\n",
       "      <th>3</th>\n",
       "      <td>1</td>\n",
       "      <td>3.329176</td>\n",
       "      <td>9.646653</td>\n",
       "      <td>7.517125</td>\n",
       "      <td>1511</td>\n",
       "      <td>13.777666</td>\n",
       "      <td>8.703550</td>\n",
       "      <td>6.542669</td>\n",
       "      <td>11.523045</td>\n",
       "      <td>14.094723</td>\n",
       "      <td>65</td>\n",
       "      <td>10</td>\n",
       "      <td>8</td>\n",
       "    </tr>\n",
       "    <tr>\n",
       "      <th>4</th>\n",
       "      <td>1</td>\n",
       "      <td>1.364536</td>\n",
       "      <td>6.320087</td>\n",
       "      <td>6.414567</td>\n",
       "      <td>8038</td>\n",
       "      <td>14.097099</td>\n",
       "      <td>6.083151</td>\n",
       "      <td>1.050328</td>\n",
       "      <td>10.138920</td>\n",
       "      <td>10.991098</td>\n",
       "      <td>90</td>\n",
       "      <td>20</td>\n",
       "      <td>8</td>\n",
       "    </tr>\n",
       "  </tbody>\n",
       "</table>\n",
       "</div>"
      ],
      "text/plain": [
       "   target       v50       v12       v21    v22       v114       v34       v10  \\\n",
       "0       1  0.899420  6.085711  7.730923  16671  15.634907  7.270147  0.503281   \n",
       "1       1  1.379210  6.507647  6.763110   7734  10.308044  3.615077  1.312910   \n",
       "2       1  0.604504  6.384670  5.245035   7087  11.205561  4.043864  0.765864   \n",
       "3       1  3.329176  9.646653  7.517125   1511  13.777666  8.703550  6.542669   \n",
       "4       1  1.364536  6.320087  6.414567   8038  14.097099  6.083151  1.050328   \n",
       "\n",
       "         v40        v14  v125  v112  v52  \n",
       "0   7.711453  11.636387    22    15    7  \n",
       "1  14.305766  11.636386     7    21    7  \n",
       "2  13.077201   9.603542     6    19    6  \n",
       "3  11.523045  14.094723    65    10    8  \n",
       "4  10.138920  10.991098    90    20    8  "
      ]
     },
     "execution_count": 105,
     "metadata": {},
     "output_type": "execute_result"
    }
   ],
   "source": [
    "df_train_slimmed.head()"
   ]
  },
  {
   "cell_type": "raw",
   "metadata": {},
   "source": [
    "Now that we have a pruned data set with only the most important features and with imputed values (ie no NaNs), let's select a model."
   ]
  },
  {
   "cell_type": "raw",
   "metadata": {},
   "source": [
    "First, we'll re-define X_train, y_train"
   ]
  },
  {
   "cell_type": "code",
   "execution_count": 106,
   "metadata": {
    "collapsed": true
   },
   "outputs": [],
   "source": [
    "X_train, y_train = df_train_slimmed.iloc[:,1:], df_train_slimmed.iloc[:,0]"
   ]
  },
  {
   "cell_type": "raw",
   "metadata": {},
   "source": [
    "Impute the new training feature set"
   ]
  },
  {
   "cell_type": "code",
   "execution_count": 107,
   "metadata": {
    "collapsed": false
   },
   "outputs": [],
   "source": [
    "from sklearn.preprocessing import Imputer\n",
    "imr = Imputer(missing_values='NaN',strategy='mean', axis=0)\n",
    "imr = imr.fit(X_train)\n",
    "X_train = imr.transform(X_train)"
   ]
  },
  {
   "cell_type": "code",
   "execution_count": 108,
   "metadata": {
    "collapsed": false
   },
   "outputs": [
    {
     "data": {
      "text/plain": [
       "(114321, 12)"
      ]
     },
     "execution_count": 108,
     "metadata": {},
     "output_type": "execute_result"
    }
   ],
   "source": [
    "X_train.shape"
   ]
  },
  {
   "cell_type": "code",
   "execution_count": 109,
   "metadata": {
    "collapsed": false
   },
   "outputs": [
    {
     "data": {
      "text/plain": [
       "(114321,)"
      ]
     },
     "execution_count": 109,
     "metadata": {},
     "output_type": "execute_result"
    }
   ],
   "source": [
    "y_train.shape"
   ]
  },
  {
   "cell_type": "code",
   "execution_count": 110,
   "metadata": {
    "collapsed": false
   },
   "outputs": [
    {
     "data": {
      "text/plain": [
       "array([0, 1], dtype=int64)"
      ]
     },
     "execution_count": 110,
     "metadata": {},
     "output_type": "execute_result"
    }
   ],
   "source": [
    "np.unique(y_train)"
   ]
  },
  {
   "cell_type": "markdown",
   "metadata": {},
   "source": [
    "## Logistic Regression"
   ]
  },
  {
   "cell_type": "raw",
   "metadata": {},
   "source": [
    "Let's first standardize the features"
   ]
  },
  {
   "cell_type": "code",
   "execution_count": 26,
   "metadata": {
    "collapsed": true
   },
   "outputs": [],
   "source": [
    "from sklearn.preprocessing import StandardScaler"
   ]
  },
  {
   "cell_type": "code",
   "execution_count": 27,
   "metadata": {
    "collapsed": false
   },
   "outputs": [],
   "source": [
    "stdsc = StandardScaler()\n",
    "X_train_std = stdsc.fit_transform(X_train)"
   ]
  },
  {
   "cell_type": "code",
   "execution_count": 28,
   "metadata": {
    "collapsed": false
   },
   "outputs": [
    {
     "data": {
      "text/plain": [
       "array([[  0.89942   ,   6.08571076,   7.73092331, ...,  22.        ,\n",
       "         15.        ,   7.        ],\n",
       "       [  1.37921007,   6.50764678,   6.7631095 , ...,   7.        ,\n",
       "         21.        ,   7.        ],\n",
       "       [  0.60450408,   6.38467003,   5.24503529, ...,   6.        ,\n",
       "         19.        ,   6.        ],\n",
       "       ..., \n",
       "       [  2.41068147,   6.6989251 ,   6.57062511, ...,  81.        ,\n",
       "         18.        ,   4.        ],\n",
       "       [  0.82165655,   6.69220436,   7.73075117, ...,  51.        ,\n",
       "          1.        ,  10.        ],\n",
       "       [  1.00066097,   6.30639645,   7.49600008, ...,  86.        ,\n",
       "          1.        ,   7.        ]])"
      ]
     },
     "execution_count": 28,
     "metadata": {},
     "output_type": "execute_result"
    }
   ],
   "source": [
    "X_train"
   ]
  },
  {
   "cell_type": "code",
   "execution_count": 29,
   "metadata": {
    "collapsed": false
   },
   "outputs": [
    {
     "data": {
      "text/plain": [
       "array([[-0.51789775, -0.86089917,  0.65568076, ..., -0.97301635,\n",
       "         0.89944058,  0.12854635],\n",
       "       [-0.10707805, -0.40432896, -0.24932807, ..., -1.56343976,\n",
       "         1.91542877,  0.12854635],\n",
       "       [-0.77041918, -0.53740013, -1.66888889, ..., -1.60280132,\n",
       "         1.57676604, -0.16203454],\n",
       "       ..., \n",
       "       [ 0.77611819, -0.19734976, -0.42932144, ...,  1.34931571,\n",
       "         1.40743467, -0.74319631],\n",
       "       [-0.58448262, -0.20462216,  0.65551979, ...,  0.1684689 ,\n",
       "        -1.47119851,  1.000289  ],\n",
       "       [-0.43121029, -0.62209872,  0.43600256, ...,  1.54612351,\n",
       "        -1.47119851,  0.12854635]])"
      ]
     },
     "execution_count": 29,
     "metadata": {},
     "output_type": "execute_result"
    }
   ],
   "source": [
    "X_train_std"
   ]
  },
  {
   "cell_type": "code",
   "execution_count": 30,
   "metadata": {
    "collapsed": true
   },
   "outputs": [],
   "source": [
    "from sklearn.linear_model import LogisticRegression"
   ]
  },
  {
   "cell_type": "code",
   "execution_count": 31,
   "metadata": {
    "collapsed": false
   },
   "outputs": [
    {
     "name": "stdout",
     "output_type": "stream",
     "text": [
      "Training accuracy: 0.594282765196\n"
     ]
    }
   ],
   "source": [
    "lr = LogisticRegression(penalty='l2', C=0.1, class_weight='balanced')\n",
    "lr.fit(X_train_std,y_train)\n",
    "print 'Training accuracy:', lr.score(X_train_std, y_train)"
   ]
  },
  {
   "cell_type": "code",
   "execution_count": 92,
   "metadata": {
    "collapsed": false
   },
   "outputs": [
    {
     "data": {
      "text/plain": [
       "array([ 0.17572518])"
      ]
     },
     "execution_count": 92,
     "metadata": {},
     "output_type": "execute_result"
    }
   ],
   "source": [
    "lr.intercept_"
   ]
  },
  {
   "cell_type": "code",
   "execution_count": 93,
   "metadata": {
    "collapsed": false
   },
   "outputs": [
    {
     "data": {
      "text/plain": [
       "(1, 12)"
      ]
     },
     "execution_count": 93,
     "metadata": {},
     "output_type": "execute_result"
    }
   ],
   "source": [
    "lr.coef_.shape"
   ]
  },
  {
   "cell_type": "raw",
   "metadata": {},
   "source": [
    "Let's look at a validation curve for this model"
   ]
  },
  {
   "cell_type": "code",
   "execution_count": 94,
   "metadata": {
    "collapsed": true
   },
   "outputs": [],
   "source": [
    "from sklearn.learning_curve import validation_curve"
   ]
  },
  {
   "cell_type": "code",
   "execution_count": 95,
   "metadata": {
    "collapsed": true
   },
   "outputs": [],
   "source": [
    "param_range = [0.001, 0.01, 0.1, 1.0, 10.0, 100.0]"
   ]
  },
  {
   "cell_type": "code",
   "execution_count": 96,
   "metadata": {
    "collapsed": false
   },
   "outputs": [],
   "source": [
    "train_scores, test_scores = validation_curve(estimator=lr,\n",
    "                                            X=X_train_std,\n",
    "                                            y=y_train,\n",
    "                                            param_name='C',\n",
    "                                            param_range=param_range,\n",
    "                                            cv=10)"
   ]
  },
  {
   "cell_type": "code",
   "execution_count": 97,
   "metadata": {
    "collapsed": false
   },
   "outputs": [
    {
     "data": {
      "text/plain": [
       "(0.4, 0.85)"
      ]
     },
     "execution_count": 97,
     "metadata": {},
     "output_type": "execute_result"
    },
    {
     "data": {
      "image/png": "[encoded data removed]",
      "text/plain": [
       "<matplotlib.figure.Figure at 0x9ea0640c>"
      ]
     },
     "metadata": {},
     "output_type": "display_data"
    }
   ],
   "source": [
    "train_mean = np.mean(train_scores,axis=1)\n",
    "train_std = np.std(train_scores, axis=1)\n",
    "test_mean = np.mean(test_scores, axis=1)\n",
    "test_std = np.std(test_scores, axis=1)\n",
    "\n",
    "plt.plot(param_range, train_mean, \n",
    "         color='blue', marker='o', \n",
    "         markersize=5, label='training accuracy')\n",
    "\n",
    "plt.fill_between(param_range, train_mean + train_std,\n",
    "                 train_mean - train_std, alpha=0.15,\n",
    "                 color='blue')\n",
    "\n",
    "plt.plot(param_range, test_mean, \n",
    "         color='green', linestyle='--', \n",
    "         marker='s', markersize=5, \n",
    "         label='validation accuracy')\n",
    "\n",
    "plt.fill_between(param_range, \n",
    "                 test_mean + test_std,\n",
    "                 test_mean - test_std, \n",
    "                 alpha=0.15, color='green')\n",
    "\n",
    "plt.xscale('log')\n",
    "plt.legend(loc='lower right')\n",
    "plt.xlabel('Parameter C')\n",
    "plt.ylabel('Accuracy')\n",
    "plt.ylim([0.4,0.85])"
   ]
  },
  {
   "cell_type": "code",
   "execution_count": 99,
   "metadata": {
    "collapsed": false
   },
   "outputs": [
    {
     "name": "stdout",
     "output_type": "stream",
     "text": [
      "[[19745  7555]\n",
      " [38828 48193]]\n"
     ]
    },
    {
     "data": {
      "text/plain": [
       "<matplotlib.text.Text at 0x9ea06f4c>"
      ]
     },
     "execution_count": 99,
     "metadata": {},
     "output_type": "execute_result"
    },
    {
     "data": {
      "image/png": "[encoded data removed]",
      "text/plain": [
       "<matplotlib.figure.Figure at 0x97af18ec>"
      ]
     },
     "metadata": {},
     "output_type": "display_data"
    }
   ],
   "source": [
    "from sklearn.metrics import confusion_matrix\n",
    "#lr.fit(X_train_std, y_train)\n",
    "y_pred = lr.predict(X_train_std)\n",
    "confmat = confusion_matrix(y_true=y_train, y_pred=y_pred)\n",
    "print (confmat)\n",
    "\n",
    "fig, ax = plt.subplots(figsize=(2.5, 2.5))\n",
    "ax.matshow(confmat, cmap=plt.cm.Blues, alpha=0.3)\n",
    "for i in range(confmat.shape[0]):\n",
    "    for j in range(confmat.shape[1]):\n",
    "        ax.text(x=j, y=i, s=confmat[i, j], va='center', ha='center')\n",
    "\n",
    "plt.xlabel('predicted label')\n",
    "plt.ylabel('true label')"
   ]
  },
  {
   "cell_type": "markdown",
   "metadata": {},
   "source": [
    "### So logistic regression isn't doing a great job. Let's try another model."
   ]
  },
  {
   "cell_type": "markdown",
   "metadata": {},
   "source": [
    "## Random Forest"
   ]
  },
  {
   "cell_type": "code",
   "execution_count": 73,
   "metadata": {
    "collapsed": true
   },
   "outputs": [],
   "source": [
    "from sklearn.ensemble import RandomForestClassifier"
   ]
  },
  {
   "cell_type": "code",
   "execution_count": 74,
   "metadata": {
    "collapsed": true
   },
   "outputs": [],
   "source": [
    "forest = RandomForestClassifier(n_estimators=100, \n",
    "                                random_state=0,\n",
    "                                class_weight='balanced',\n",
    "                                max_depth=4,\n",
    "                                n_jobs=-1)"
   ]
  },
  {
   "cell_type": "code",
   "execution_count": 75,
   "metadata": {
    "collapsed": false
   },
   "outputs": [
    {
     "data": {
      "text/plain": [
       "RandomForestClassifier(bootstrap=True, class_weight='balanced',\n",
       "            criterion='gini', max_depth=4, max_features='auto',\n",
       "            max_leaf_nodes=None, min_samples_leaf=1, min_samples_split=2,\n",
       "            min_weight_fraction_leaf=0.0, n_estimators=100, n_jobs=-1,\n",
       "            oob_score=False, random_state=0, verbose=0, warm_start=False)"
      ]
     },
     "execution_count": 75,
     "metadata": {},
     "output_type": "execute_result"
    }
   ],
   "source": [
    "forest.fit(X_train,y_train)"
   ]
  },
  {
   "cell_type": "code",
   "execution_count": 76,
   "metadata": {
    "collapsed": false
   },
   "outputs": [],
   "source": [
    "y_train_pred = forest.predict(X_train)"
   ]
  },
  {
   "cell_type": "code",
   "execution_count": 77,
   "metadata": {
    "collapsed": false
   },
   "outputs": [
    {
     "name": "stdout",
     "output_type": "stream",
     "text": [
      "Random Forest training accuracy 0.629\n"
     ]
    }
   ],
   "source": [
    "from sklearn.metrics import accuracy_score\n",
    "print 'Random Forest training accuracy %.3f' % (accuracy_score(y_train,y_train_pred))"
   ]
  },
  {
   "cell_type": "markdown",
   "metadata": {},
   "source": [
    "## Boosted decision tree"
   ]
  },
  {
   "cell_type": "code",
   "execution_count": 78,
   "metadata": {
    "collapsed": true
   },
   "outputs": [],
   "source": [
    "from sklearn.ensemble import AdaBoostClassifier\n",
    "from sklearn.tree import DecisionTreeClassifier"
   ]
  },
  {
   "cell_type": "code",
   "execution_count": 83,
   "metadata": {
    "collapsed": true
   },
   "outputs": [],
   "source": [
    "tree = DecisionTreeClassifier(criterion='entropy',\n",
    "                              random_state=0,\n",
    "                              class_weight='balanced')\n",
    "\n",
    "ada = AdaBoostClassifier(base_estimator=tree, \n",
    "                         n_estimators=100,\n",
    "                         learning_rate=0.1,\n",
    "                         random_state=0)"
   ]
  },
  {
   "cell_type": "code",
   "execution_count": 84,
   "metadata": {
    "collapsed": true
   },
   "outputs": [],
   "source": [
    "tree = tree.fit(X_train,y_train)"
   ]
  },
  {
   "cell_type": "code",
   "execution_count": 85,
   "metadata": {
    "collapsed": true
   },
   "outputs": [],
   "source": [
    "y_train_pred = tree.predict(X_train)"
   ]
  },
  {
   "cell_type": "code",
   "execution_count": 87,
   "metadata": {
    "collapsed": false
   },
   "outputs": [
    {
     "name": "stdout",
     "output_type": "stream",
     "text": [
      "Decision training accuracy 1.000\n"
     ]
    }
   ],
   "source": [
    "tree_train = accuracy_score(y_train, y_train_pred)\n",
    "print 'Decision training accuracy %.3f' % (tree_train)"
   ]
  },
  {
   "cell_type": "code",
   "execution_count": 88,
   "metadata": {
    "collapsed": true
   },
   "outputs": [],
   "source": [
    "ada = ada.fit(X_train, y_train)"
   ]
  },
  {
   "cell_type": "code",
   "execution_count": 89,
   "metadata": {
    "collapsed": true
   },
   "outputs": [],
   "source": [
    "y_train_pred = ada.predict(X_train)"
   ]
  },
  {
   "cell_type": "code",
   "execution_count": 90,
   "metadata": {
    "collapsed": false
   },
   "outputs": [
    {
     "name": "stdout",
     "output_type": "stream",
     "text": [
      "AdaBoost training accuracy 1.000\n"
     ]
    }
   ],
   "source": [
    "ada_train = accuracy_score(y_train, y_train_pred) \n",
    "print 'AdaBoost training accuracy %.3f' % (ada_train)"
   ]
  },
  {
   "cell_type": "code",
   "execution_count": null,
   "metadata": {
    "collapsed": true
   },
   "outputs": [],
   "source": []
  }
 ],
 "metadata": {
  "kernelspec": {
   "display_name": "Python 2",
   "language": "python",
   "name": "python2"
  },
  "language_info": {
   "codemirror_mode": {
    "name": "ipython",
    "version": 2
   },
   "file_extension": ".py",
   "mimetype": "text/x-python",
   "name": "python",
   "nbconvert_exporter": "python",
   "pygments_lexer": "ipython2",
   "version": "2.7.6"
  }
 },
 "nbformat": 4,
 "nbformat_minor": 0
}
